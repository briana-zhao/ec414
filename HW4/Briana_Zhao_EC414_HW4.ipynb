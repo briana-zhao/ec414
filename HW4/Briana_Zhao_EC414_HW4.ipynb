{
  "nbformat": 4,
  "nbformat_minor": 0,
  "metadata": {
    "colab": {
      "name": "EC414_HW4.ipynb",
      "provenance": [],
      "collapsed_sections": [],
      "toc_visible": true
    },
    "kernelspec": {
      "name": "python3",
      "display_name": "Python 3"
    }
  },
  "cells": [
    {
      "cell_type": "markdown",
      "metadata": {
        "id": "B_ih-R1fJ6VG"
      },
      "source": [
        "# Homework 4: Linear Binary Classification Methods\n",
        "by Junyu Liu and Brian Kulis\n",
        "\n",
        "**Due date**: March 3, Wednesday by 11:59pm\n",
        "\n",
        "**Late** due date: March 6, Saturday by 11:59pm"
      ]
    },
    {
      "cell_type": "markdown",
      "metadata": {
        "id": "fBxGJCzSKovR"
      },
      "source": [
        "## Setup"
      ]
    },
    {
      "cell_type": "markdown",
      "metadata": {
        "id": "4mxor3LzKpqj"
      },
      "source": [
        "To run and solve this assignment, you must have access to a working Jupyter Notebook installation. We recommend Google Colab. If you are already familiar with Jupyter and have your own installation, you may use it; however, you will have to tweak Colab-specific commands we've entered here (for example, file uploads).\n",
        "\n",
        "To use Google Colab:\n",
        "\n",
        "1. Download this `ipynb` file.\n",
        "2. Navigate to https://colab.research.google.com/ and select `Upload` in the pop-up window.\n",
        "3. Upload this file. It will then open in Colab.\n",
        "\n",
        "The below statements assume that you have already followed these instructions. If you need help with Python syntax, NumPy, or Matplotlib, you might find Week 1 discussion material useful.\n",
        "\n",
        "To run code in a cell or to render Markdown+LaTeX press Ctrl+Enter or \"`Run`\" button above. To edit any code or text cell, double-click on its content. Put your solution into boxes marked with **`[double click here to add a solution]`** and press Ctrl+Enter to render text. You can add cells via `+` sign at the top left corner.\n",
        "\n",
        "**Submission instructions:** please upload your completed solution file as well as a scan of any handwritten answers to Gradescope by the due date (see Schedule)."
      ]
    },
    {
      "cell_type": "markdown",
      "metadata": {
        "id": "iTtN4g49nWrB"
      },
      "source": [
        "This homework is scored out of 100.\n",
        "\n",
        "\n",
        "**Important:** unless otherwise specified, you should **NOT** use loops. This is not to say loops are always bad, but avoiding them should help you:\n",
        "1.   get more familiar with common language features and libraries\n",
        "2.   write more efficient code\n",
        "3.   \"think in higher dimensions\" (get more comfortable with vectors, matrices, etc.)"
      ]
    },
    {
      "cell_type": "markdown",
      "metadata": {
        "id": "_32VwlhsN9ny"
      },
      "source": [
        "## **Question 1:** Creating a Dataset (10 points)\n",
        "\n",
        "For this assignment, we will create a simple linearly-separable dataset for binary classification. We have provided you with the code to generate the feature vectors. Notice that one class has significantly more samples than the other.\n",
        "\n",
        "**Important:** Although this dataset has only 1 feature, **ALL** the code you write in this assignment should be able to run as intended with more features. The only exception is where you are producing plots. Many functions you need to write will be tested for compatibility with more features in question 5."
      ]
    },
    {
      "cell_type": "code",
      "metadata": {
        "id": "LS0rlO3eOCZK"
      },
      "source": [
        "import numpy as np\n",
        "import pandas as pd\n",
        "import matplotlib.pyplot as plt\n",
        "from sklearn.model_selection import train_test_split\n",
        "from numpy.random import default_rng"
      ],
      "execution_count": null,
      "outputs": []
    },
    {
      "cell_type": "code",
      "metadata": {
        "id": "lw5AUAsV5MQr"
      },
      "source": [
        "# Do NOT change\n",
        "rng = default_rng(1)\n",
        "x1 = rng.uniform(-4, 2, 460)\n",
        "x2 = rng.normal(5, np.sqrt(3), 40)"
      ],
      "execution_count": null,
      "outputs": []
    },
    {
      "cell_type": "markdown",
      "metadata": {
        "id": "S7rbmFam-xWg"
      },
      "source": [
        "### Problem a. (4 points)\n",
        "We need to create appropriate labels for the two classes. x1 is the feature vectors of the negative class and x2 the positive class. Also produce a colored feature-label scatter plot (the negative class should be blue and the positive class should be red)."
      ]
    },
    {
      "cell_type": "code",
      "metadata": {
        "colab": {
          "base_uri": "https://localhost:8080/",
          "height": 282
        },
        "id": "1i19iWdkAVpY",
        "outputId": "d3ebb835-cc97-4d3f-8ae6-547420c82ca5"
      },
      "source": [
        "# WRITE CODE HERE: \r\n",
        "ones = np.ones(shape = (len(x2),1))\r\n",
        "negative_ones = -1 * np.ones(shape = (len(x1),1))\r\n",
        "plt.plot(x1, negative_ones, 'o', color = 'blue')\r\n",
        "plt.plot(x2, ones, 'o', color = 'red')\r\n"
      ],
      "execution_count": null,
      "outputs": [
        {
          "output_type": "execute_result",
          "data": {
            "text/plain": [
              "[<matplotlib.lines.Line2D at 0x7f2e4f3110d0>]"
            ]
          },
          "metadata": {
            "tags": []
          },
          "execution_count": 4
        },
        {
          "output_type": "display_data",
          "data": {
            "image/png": "[encoded data removed]",
            "text/plain": [
              "<Figure size 432x288 with 1 Axes>"
            ]
          },
          "metadata": {
            "tags": [],
            "needs_background": "light"
          }
        }
      ]
    },
    {
      "cell_type": "markdown",
      "metadata": {
        "id": "YRLTGhczArfW"
      },
      "source": [
        "### Problem b. (3 points)\n",
        "Combine the data into X and y, and then perform a 75-25 train-test split. Use 32 as the random_state.\n",
        "\n",
        "Hint: X has to be a 2D array, so you need to use reshape at some point."
      ]
    },
    {
      "cell_type": "code",
      "metadata": {
        "id": "ofFs0MR9Dp7z"
      },
      "source": [
        "# WRITE CODE HERE:\n",
        "X_train = np.concatenate([x1,x2])\n",
        "y_train = np.append(negative_ones,[ones])\n",
        "\n",
        "X_train = np.reshape(X_train, [len(X_train), 1])\n",
        "\n",
        "\n",
        "random_state=32\n",
        "test_size=0.25\n",
        "\n",
        "X_train, X_test, y_train, y_test = train_test_split(X_train, y_train, test_size = 0.25, random_state = 32)\n"
      ],
      "execution_count": null,
      "outputs": []
    },
    {
      "cell_type": "markdown",
      "metadata": {
        "id": "fTlkYTs619A_"
      },
      "source": [
        "### Problem c. (3 points)\n",
        "To conveniently account for the bias term in later parts, we will also store the feature vectors in extended form (each feature vector appended with 1). Apply this to both X_train and X_test."
      ]
    },
    {
      "cell_type": "code",
      "metadata": {
        "id": "4LFCgyVU3EKY"
      },
      "source": [
        "#WRITE CODE HERE:\n",
        "ones_xtrain = np.ones(shape = (len(X_train),1))\n",
        "ones_xtest = np.ones(shape = (len(X_test),1))\n",
        "Xtr_ext = np.hstack((X_train,ones_xtrain))\n",
        "Xte_ext = np.hstack((X_test,ones_xtest))\n",
        "\n"
      ],
      "execution_count": null,
      "outputs": []
    },
    {
      "cell_type": "markdown",
      "metadata": {
        "id": "Vf7z43OcK2ax"
      },
      "source": [
        "## **Question 2:** OLS Regression for Binary Classification (20 points)\r\n",
        "\r\n",
        "In class, we talked about one way to implement clasification is to use one of the linear regression methods we learned. We will investigate how to use OLS for binary classification and see how it performs."
      ]
    },
    {
      "cell_type": "markdown",
      "metadata": {
        "id": "cxZX2J8wLVix"
      },
      "source": [
        "### Problem a. (3 points)\n",
        "\n",
        "When OLS takes a feature vector, it gives you a real-valued scalar. Assuming OLS works well (i.e., it gives a value close to the binary label (either -1 or 1) for most of the samples), how can you translate the value into the label? Suggest a simple method.\n",
        "\n",
        "Hint: we talked about this in class"
      ]
    },
    {
      "cell_type": "markdown",
      "metadata": {
        "id": "7gdm7yHm72aa"
      },
      "source": [
        "You can use -1 and 1 as targets. Then you can say: if the value of y(x) is less than some number (such as 0), then label it -1 (class 1), and if the value is greater than some number, then label it as 1 (class 2). A simple way to do this is by assigning the label/class based on the sign of y(x)."
      ]
    },
    {
      "cell_type": "markdown",
      "metadata": {
        "id": "eEFD30vtfu3T"
      },
      "source": [
        "### Problem b. (7 points)\n",
        "For simplicity, we will use the OLS implementation from sklearn whose documentation can be found here:\n",
        "https://scikit-learn.org/stable/modules/generated/sklearn.linear_model.LinearRegression.html\n",
        "\n",
        "Fit the model to X_train, y_train and then extract w and b. You should do so by using get_wOLS_ext, which you need to complete. Note that the function should return a single vector, which is the regular w vector with the bias term appended to it.\n",
        "\n",
        "Lastly, create the following plot:\n",
        "* a scatter plot of the training data overlayed by the OLS solution. For this, You can assume that X_train has only one feature.\n",
        "\n",
        "Hint: w is the coeficient and b is the intercept."
      ]
    },
    {
      "cell_type": "code",
      "metadata": {
        "id": "GvgEoJUMcpEh",
        "colab": {
          "base_uri": "https://localhost:8080/",
          "height": 315
        },
        "outputId": "7a3b42c1-02c6-4e3f-f213-6596a8e67565"
      },
      "source": [
        "from sklearn import linear_model\r\n",
        "# WRITE CODE HERE: \r\n",
        "# DO NOT assume that X has only one feature\r\n",
        "def get_wOLS_ext(X, y):\r\n",
        "    reg = linear_model.LinearRegression()\r\n",
        "    reg.fit(X, y)\r\n",
        "    w = reg.coef_\r\n",
        "    b = reg.intercept_\r\n",
        "\r\n",
        "    w_ext = np.append(w,[b])\r\n",
        "    w_ext = np.reshape(w_ext, [len(w_ext), 1])\r\n",
        "    \r\n",
        "    return w_ext\r\n",
        "\r\n",
        "wOLS_ext = get_wOLS_ext(X_train, y_train)\r\n",
        "print('wOLS_ext:', wOLS_ext)\r\n",
        "plt.plot(X_train, y_train, 'o', color = 'blue')\r\n",
        "plt.plot(X_train, wOLS_ext[0] * X_train + wOLS_ext[1], color = 'red')\r\n",
        "\r\n",
        "\r\n"
      ],
      "execution_count": null,
      "outputs": [
        {
          "output_type": "stream",
          "text": [
            "wOLS_ext: [[ 0.15042363]\n",
            " [-0.76859499]]\n"
          ],
          "name": "stdout"
        },
        {
          "output_type": "execute_result",
          "data": {
            "text/plain": [
              "[<matplotlib.lines.Line2D at 0x7f2e4b678850>]"
            ]
          },
          "metadata": {
            "tags": []
          },
          "execution_count": 10
        },
        {
          "output_type": "display_data",
          "data": {
            "image/png": "[encoded data removed]",
            "text/plain": [
              "<Figure size 432x288 with 1 Axes>"
            ]
          },
          "metadata": {
            "tags": [],
            "needs_background": "light"
          }
        }
      ]
    },
    {
      "cell_type": "markdown",
      "metadata": {
        "id": "YhgVuFW9w773"
      },
      "source": [
        "### Problem c. (6 points)\n",
        "\n",
        "Complete the linear_binary_predict function to predict the labels of the test set using the OLS solution from part a. Also complete compute_CCR and report the correct classification rate (CCR).\n",
        "\n",
        "linear_binary_predict takes Xext, a matrix of extended feature vectors, and wext, an extended weight vector; it performs linear binary classification and returns a vector of predicted binary labels.\n",
        "\n",
        "compute_CCR takes Xext, wext, along with y, the expected binary labels to compute CCR. It should make use of linear_binary_predict.\n",
        "\n",
        "Note: \n",
        "*   We assume Xext to be row-major, meaning each row is a sample.\n",
        "*   Do not change the function prototype of linear_binary_predict. This also applies to all other functions we ask you to complete\n",
        "*   The OLS from sklearn has a builtin predict function. We are asking you to complete linear_binary_predict instead of using the builtin predict because linear_binary_predict will be important for later parts.\n",
        "\n",
        "Hint: use the idea from part a.\n",
        "\n"
      ]
    },
    {
      "cell_type": "code",
      "metadata": {
        "colab": {
          "base_uri": "https://localhost:8080/"
        },
        "id": "vrhLQ-0_x8OX",
        "outputId": "d9403109-3ae3-40b1-c496-9c5b1ab9c72b"
      },
      "source": [
        "# WRITE CODE HERE:\n",
        "def linear_binary_predict(Xext, wext):\n",
        "    yext = np.dot(np.transpose(wext),np.transpose(Xext)) #transposing x makes it column major (each column is a sample)\n",
        "    \n",
        "    binary_predictions = np.sign(yext)\n",
        "    \n",
        "    return binary_predictions\n",
        "\n",
        "def compute_CCR(Xext, wext, y):\n",
        "\n",
        "    binary_predictions = linear_binary_predict(Xext, wext)\n",
        "    \n",
        "    compare = (binary_predictions == y)\n",
        "    \n",
        "    map(int, compare)\n",
        "    \n",
        "    total_correct = sum(sum(compare))\n",
        "    \n",
        "    ccr = total_correct / len(y)\n",
        "    return ccr\n",
        "\n",
        "CCR = compute_CCR(Xte_ext, wOLS_ext, y_test)\n",
        "print(\"The test CCR using OLS is\", CCR)"
      ],
      "execution_count": null,
      "outputs": [
        {
          "output_type": "stream",
          "text": [
            "The test CCR using OLS is 0.928\n"
          ],
          "name": "stdout"
        }
      ]
    },
    {
      "cell_type": "markdown",
      "metadata": {
        "id": "dX-NCA9sZ5XO"
      },
      "source": [
        "### Problem d. (4 points)\n",
        "Explain why CCR is not a good metric in this case. Suggest an alternative that better captures the performance of OLS on this dataset."
      ]
    },
    {
      "cell_type": "markdown",
      "metadata": {
        "id": "ZZmVPImh-XSk"
      },
      "source": [
        "CCR is not a very informative metric in this case. An alternative that would better capture the performance would be calculating more informative metrics such as how many correct classifications we made, how many \"false positives\" there were (classifying as positive when true class is negative), and how many \"false negatives\" there were (classifying as negative when true class is positive). These metrics are less ambiguous and are more useful especially if the classes weren't very balanced."
      ]
    },
    {
      "cell_type": "markdown",
      "metadata": {
        "id": "OF7u7IoGC96w"
      },
      "source": [
        "## **Question 3:** Fisher's Linear Discriminant (27 points)\n",
        "Fisher's Linear Discriminant is a method that takes d dimensional feature vectors and projects them into 1 dimension, and it tries to do so in a fashion where the resulting 1D values are well-separated by class. Here our d happens to be 1, but as mentioned above, the code you write needs to be able to accomodate higher dimensions for full credit."
      ]
    },
    {
      "cell_type": "markdown",
      "metadata": {
        "id": "VaVLlwwJWrpX"
      },
      "source": [
        "### a. Separate the training set by class (4 points)\n",
        "\n",
        "Write a function seperate that takes the inputs X, y and separates X based on y.\n",
        "\n",
        "For full credit, create a vectorized implementation (no for loops)."
      ]
    },
    {
      "cell_type": "code",
      "metadata": {
        "id": "991ZOOYCY02l"
      },
      "source": [
        "def seperate(X, y):\n",
        "    # WRITE CODE HERE:\n",
        "    X1 = X[np.where(y == -1)]\n",
        "    X2 = X[np.where(y == 1)]\n",
        "    # X1 should be of the negative class, and X2 the positive class\n",
        "    return X1, X2\n",
        "\n",
        "X1, X2 = seperate(X_train, y_train)"
      ],
      "execution_count": null,
      "outputs": []
    },
    {
      "cell_type": "markdown",
      "metadata": {
        "id": "bMMqIr0xB9BP"
      },
      "source": [
        "### b. Calculate mean vectors (4 points)\n",
        "Write a function get_means that takes the inputs X1, X2 and calculates the mean vectors of the two classes.\n",
        "\n",
        "For full credit, create a vectorized implementation (no for loops)."
      ]
    },
    {
      "cell_type": "code",
      "metadata": {
        "id": "GxuPgvLQKTPF",
        "colab": {
          "base_uri": "https://localhost:8080/"
        },
        "outputId": "a8cb3611-c9a2-40b8-d055-e997ab9859b6"
      },
      "source": [
        "def get_means(X1, X2):\n",
        "    # WRITE CODE HERE:\n",
        "    m1 = sum(X1) / len(X1)\n",
        "    m2 = sum(X2) / len(X2)\n",
        "    return m1, m2 \n",
        "\n",
        "m1, m2 = get_means(X1, X2)\n",
        "print('m1, m2:', m1, m2)"
      ],
      "execution_count": null,
      "outputs": [
        {
          "output_type": "stream",
          "text": [
            "m1, m2: [-1.07085432] [5.73185771]\n"
          ],
          "name": "stdout"
        }
      ]
    },
    {
      "cell_type": "markdown",
      "metadata": {
        "id": "X3xQqSq_Ogmd"
      },
      "source": [
        "### c. Calculate within-class covariance (5 points)\n",
        "$S_w$, the total within-class covariance matrix, is a d by d matrix given by $S_1 + S_2$ where $S_1 = \\sum_{x_i \\in X_1}(x_i-m_1)^T(x_i-m_1) = (X_1-m_1)^T(X_1-m_1)$. \n",
        "\n",
        "Write a function get_Sw that takes the inputs X1, X2, m1, m2 and calculates Sw.\n",
        "\n",
        "For full credit, create a vectorized implementation.\n",
        "\n",
        "**Note:** depending on the schema of the dataset (row-major vs column-major), the formula to use might differ slightly from those on the lecture slides. We assume row-major (each sample is a row) here, as many public datasets are organized this way."
      ]
    },
    {
      "cell_type": "code",
      "metadata": {
        "id": "C5NaX0uwUXll",
        "colab": {
          "base_uri": "https://localhost:8080/"
        },
        "outputId": "3b13a3b6-3c50-4ad4-ac28-afd464959c69"
      },
      "source": [
        "def get_Sw(X1, X2, m1, m2):\n",
        "    # WRITE CODE HERE:\n",
        "    S1 = np.dot(np.transpose(X1 - m1), (X1 - m1))\n",
        "    S2 = np.dot(np.transpose(X2 - m2), (X2 - m2))\n",
        "    Sw = S1 + S2\n",
        "    return Sw\n",
        "\n",
        "Sw = get_Sw(X1, X2, m1, m2)\n",
        "print('Sw:', Sw)"
      ],
      "execution_count": null,
      "outputs": [
        {
          "output_type": "stream",
          "text": [
            "Sw: [[1106.73594709]]\n"
          ],
          "name": "stdout"
        }
      ]
    },
    {
      "cell_type": "markdown",
      "metadata": {
        "id": "NnV8WWDBdZAG"
      },
      "source": [
        "### d. Calculate $w_{FLD}$ and $b_{FLD}$ (5 points)\n",
        "Write a function get_wFLD_ext that takes the inputs Sw, m1, m2 and calculates the extended $w_{FLD}$.\n",
        "\n",
        "Recall that in class we mentioned the average of the averages of the two classes after the linear transformation can serve as the bias term. However, since we want the outputs of $Xw + b$ on the two classes to be roughly separated by 0, we actually want the effect of adding b to be the same as subtracting that average. Thus, use $b = -(m_1w + m_2w)/2$.\n",
        "\n",
        "For full credit, create a vectorized implementation, and do not use the inverse function.\n"
      ]
    },
    {
      "cell_type": "code",
      "metadata": {
        "id": "F1BuMyNvdXm9",
        "colab": {
          "base_uri": "https://localhost:8080/"
        },
        "outputId": "bdcfb038-47e7-42d0-8602-253e08901314"
      },
      "source": [
        "def get_wFLD_ext(Sw, m1, m2):\n",
        "\n",
        "    if Sw.shape == ():  #if Sw is just a number (not a vector/matrix)\n",
        "      wFLD = (m2 - m1) / Sw\n",
        "    else:\n",
        "      wFLD = np.linalg.solve(Sw, (m2 - m1))\n",
        "\n",
        "    bFLD = (-1/2) * (np.dot(m1, wFLD) + np.dot(m2, wFLD))\n",
        "\n",
        "    wFLD_ext = np.append(wFLD,[bFLD])\n",
        "    wFLD_ext = np.reshape(wFLD_ext, [len(wFLD_ext), 1])\n",
        "    \n",
        "    return wFLD_ext\n",
        "\n",
        "wFLD_ext = get_wFLD_ext(Sw, m1, m2)\n",
        "print('wFLD_ext:', wFLD_ext)"
      ],
      "execution_count": null,
      "outputs": [
        {
          "output_type": "stream",
          "text": [
            "wFLD_ext: [[ 0.00614664]\n",
            " [-0.01432476]]\n"
          ],
          "name": "stdout"
        }
      ]
    },
    {
      "cell_type": "markdown",
      "metadata": {
        "id": "R5FyLF32e9t0"
      },
      "source": [
        "### e. Evaluation (4 points)\n",
        "\n",
        "First, create a plot of the FLD solution using the training set. Then use the compute_CCR function that you wrote earlier to get the FLD CCR on the test set."
      ]
    },
    {
      "cell_type": "code",
      "metadata": {
        "colab": {
          "base_uri": "https://localhost:8080/",
          "height": 282
        },
        "id": "6E8A6SAwhTzy",
        "outputId": "612949d3-265c-4814-8f2b-2c40b13bdfeb"
      },
      "source": [
        "# WRITE CODE HERE: \n",
        "plt.plot(X_train, wFLD_ext[0] * X_train + wFLD_ext[1])\n",
        "CCR = compute_CCR(Xte_ext, wFLD_ext, y_test)\n",
        "print(\"The test CCR using FLD is\", CCR)"
      ],
      "execution_count": null,
      "outputs": [
        {
          "output_type": "stream",
          "text": [
            "The test CCR using FLD is 1.0\n"
          ],
          "name": "stdout"
        },
        {
          "output_type": "display_data",
          "data": {
            "image/png": "[encoded data removed]",
            "text/plain": [
              "<Figure size 432x288 with 1 Axes>"
            ]
          },
          "metadata": {
            "tags": [],
            "needs_background": "light"
          }
        }
      ]
    },
    {
      "cell_type": "markdown",
      "metadata": {
        "id": "-kG8hSp7WHCD"
      },
      "source": [
        "### f. Reflection (5 points)\n",
        "Recall that in class we noted that OLS and FLD can be equivalent under certain situations. Is that the case here? If not, briefly comment on why they performed differently."
      ]
    },
    {
      "cell_type": "markdown",
      "metadata": {
        "id": "Aa2X0WzPCFKw"
      },
      "source": [
        "OLS and FLD can be equivalent for binary classification (2-class) problems if we take the targets of class 1 to be $N/N_1$ and the targets of class 2 to be $-N/N_2$ (where $N$ is the total number of patterns, $N_1$ is the number of patterns in class 1 and $N_2$ is the number of patterns in class 2). However, for our case, we set the class targets to be 1 and -1. Therefore OLS and FLD are not equivalent for our case."
      ]
    },
    {
      "cell_type": "markdown",
      "metadata": {
        "id": "1Hte8xdEpZNZ"
      },
      "source": [
        "## **Question 4:** An algorithm using SGD (33 points)\n",
        "Let us consider a different linear classifier in this problem, one based on the idea of an $\\textit{error}$ function minimization problem, similar to what we studied with linear regression, but whose error function is more tailored to the classification problem.\n",
        "\n",
        "The form of our linear classifier is $h_{\\bf{w}}(\\bf{x}) = \\mbox{sgn}(\\bf{w}^T \\bf{x})$, where $sgn$ is the sign function (so $1$ if $\\bf{w}^T \\bf{x} \\geq 0$ and $-1$ otherwise).  We are assuming here that we have padded the inputs with an extra dimension of $1$ to account for the bias term in the linear function, as we did with linear regression.\n",
        "\n",
        "In the binary classification case, each target class $y_i$ is either $1$ or $-1$.  One possible error function to use would say that the error is 0 if our linear classifier agrees with the target label (i.e. $y_i = \\mbox{sgn}(\\bf{w}^T \\bf{x}_i$)), and if our linear classifier predicts the incorrect class ($y_i \\neq \\mbox{sgn}(\\bf{w}^T \\bf{x}_i$)), then the error will be given by $|\\bf{w}^T \\bf{x}_i|$---intuitively, we penalize more for predictions that are farther from being predicted correctly.\n",
        "\n",
        "**Note:** the analytical parts of this question assume column feature vectors. However, you should still assume row feature vectors in the coding parts for consistency with our datasets."
      ]
    },
    {
      "cell_type": "markdown",
      "metadata": {
        "id": "19cL4fQjsHHC"
      },
      "source": [
        "### Problem a. (5 points)\n",
        "Show that, for each training point, this error function may be concisely written as\n",
        "\n",
        "$L_i(\\bf{w}) = \\max(0, -y_i \\bf{w}^T \\bf{x}_i)$."
      ]
    },
    {
      "cell_type": "markdown",
      "metadata": {
        "id": "rhJyt3ZrBuG2"
      },
      "source": [
        ""
      ]
    },
    {
      "cell_type": "markdown",
      "metadata": {
        "id": "rlqWT0CXs5vk"
      },
      "source": [
        "### Problem b. (5 points)\n",
        "We will compute the total loss over the training data as the sum of the $L_i$ losses, namely\n",
        "\n",
        "$L(\\bf{w}) = \\sum_{i=1}^n \\max(0, -y_i \\bf{w}^T \\bf{x}_i)$.\n",
        "\n",
        "Note that one reason we chose this particular loss function is that it is continuous (unlike the 0-1 loss).  Furthermore, it has a simple sub-gradient.  The sub-gradient of the loss at 0 is 0, and everywhere else it is equal to the gradient.  Show that the sub-gradient is equal to\n",
        "$\\nabla_{\\bf{w}} L_i = \n",
        "\\begin{cases}\n",
        "0 & h_{\\bf{w}} \\mbox{ classifies $\\bf{x}_i$ correctly}\\\\\n",
        "-y_i \\bf{x}_i & h_{\\bf{w}} \\mbox{ classifies $\\bf{x}_i$ incorrectly.}\n",
        "\\end{cases}$"
      ]
    },
    {
      "cell_type": "markdown",
      "metadata": {
        "id": "buQ26ILVB8xY"
      },
      "source": [
        ""
      ]
    },
    {
      "cell_type": "markdown",
      "metadata": {
        "id": "lF24kNfQuSKB"
      },
      "source": [
        "### Problem c. (5 points)\n",
        "Using a batch size of 1 and a step size of 1, write down the update rule for stochastic (sub)-gradient descent to minimize $L(\\bf{w})$."
      ]
    },
    {
      "cell_type": "markdown",
      "metadata": {
        "id": "1BZZldGACCr_"
      },
      "source": [
        ""
      ]
    },
    {
      "cell_type": "markdown",
      "metadata": {
        "id": "IpOT7Z6BrV6T"
      },
      "source": [
        "### Problem d. (12 points)\n",
        "Now it's time to implement the actual algorithm using the update rule we derived from part c. \n",
        "\n",
        "1.   Complete the one_pass function, which iterates over the entire Xext and y once, updating w in the process. (6 points)\n",
        "2.   Go over the training set twice (2 epochs) to get your final w, which you can do by calling one_pass twice in the get_wSGD function. Then report the CCR on the test set. (6 points)\n",
        "\n",
        "Note:\n",
        "* You should always shuffle the training set before each pass.\n",
        "* The first shuffle has already been performed by train_test_split, so you do not need to do a shuffle before the first pass here.\n",
        "* You can get rid of the one_pass function if you think it's better to incorporate it into get_wSGD, but you must keep get_wSGD."
      ]
    },
    {
      "cell_type": "code",
      "metadata": {
        "colab": {
          "base_uri": "https://localhost:8080/"
        },
        "id": "e14KZEtjvOuO",
        "outputId": "d71a847b-90a7-49a6-e2cb-4a111208f8f5"
      },
      "source": [
        "from sklearn.utils import shuffle\n",
        "\n",
        "def one_pass(Xext, y, w):\n",
        "    n = Xext.shape[0]\n",
        "    for i in range(n):\n",
        "        h_x = np.dot(w, Xext[i])\n",
        "        if np.sign(h_x) == y[i]:\n",
        "            error_gradient = 0\n",
        "        else:\n",
        "            error_gradient = -1 * y[i] * Xext[i]\n",
        "\n",
        "        w = w - error_gradient\n",
        "\n",
        "    return w\n",
        "\n",
        "        \n",
        "\n",
        "def get_wSGD(Xext, y):\n",
        "    # use 0 as the random state for shuffling\n",
        "    random_state=0\n",
        "    \n",
        "    w = np.zeros(shape = (1,Xext.shape[1])) #initialize w\n",
        "    \n",
        "    w = one_pass(Xext, y, w)\n",
        "\n",
        "    Xext, y = shuffle(Xext, y, random_state=0)\n",
        "\n",
        "    wSGD = one_pass(Xext, y, w)\n",
        "\n",
        "    wSGD = (wSGD[0][:])\n",
        "    wSGD = np.reshape(wSGD, [len(wSGD), 1])\n",
        "    return wSGD\n",
        "\n",
        "wSGD = get_wSGD(Xtr_ext, y_train)\n",
        "\n",
        "CCR = compute_CCR(Xte_ext, wSGD, y_test)\n",
        "print(\"The test CCR using SGD is\", CCR)\n",
        "print('wSGD:', wSGD)"
      ],
      "execution_count": null,
      "outputs": [
        {
          "output_type": "stream",
          "text": [
            "The test CCR using SGD is 0.92\n",
            "wSGD: [[ 4.48944846]\n",
            " [-5.        ]]\n"
          ],
          "name": "stdout"
        }
      ]
    },
    {
      "cell_type": "markdown",
      "metadata": {
        "id": "KAyX-08Z1f5h"
      },
      "source": [
        "### Problem e. (6 points)\n",
        "\n",
        "The result you get from the previous part is likely not ideal. And if you change the random_state used for shuffling in the previous part (remember to change it back to 0 if you try this), you should see large swings in CCR. This is a common phenomenon when using SGD naively, and we will see this again in question 5.\n",
        "\n",
        "Recall from part c that we are using a fixed step size of 1, which is way too large for you to converge to a local minimum consistently. \n",
        "\n",
        "In practice, a technique called learning rate decay is commonly used with SGD. Essentially, the step size gets smaller after each iteration. This allows you to \"learn fast\" in the beginning and also be able to converge to a local minimum later when you are close to one.\n",
        "\n",
        "We will use an initial learning rate (step size) of 1 and the inverse square root decay, which means the step size at iteration $t$ is $\\frac1{\\sqrt t}$.\n",
        "\n",
        "Note:\n",
        "* $t$ starts at 1, not 0; otherwise, you will get a division by 0\n",
        "* You can get rid of the one_pass2 function if you think it's better to incorporate it into get_wSGD2."
      ]
    },
    {
      "cell_type": "code",
      "metadata": {
        "colab": {
          "base_uri": "https://localhost:8080/"
        },
        "id": "qlM2SdxOvGvi",
        "outputId": "bc60601b-10f8-43e8-8c6e-61cbb7839c11"
      },
      "source": [
        "import math\n",
        "\n",
        "def one_pass2(Xext, y, w, t):\n",
        "    n = Xext.shape[0]\n",
        "    for i in range(n):\n",
        "        learning_rate = 1 / math.sqrt(t)\n",
        "        h_x = np.dot(w, Xext[i])\n",
        "        if np.sign(h_x) == y[i]:\n",
        "            error_gradient = 0\n",
        "        else:\n",
        "            error_gradient = -1 * y[i] * Xext[i]\n",
        "\n",
        "        w = w - learning_rate * error_gradient\n",
        "        t = t + 1\n",
        "    \n",
        "    return w\n",
        "\n",
        "def get_wSGD2(Xext, y):\n",
        "    # use 0 as the random state for shuffling\n",
        "    random_state=0\n",
        "\n",
        "    w = np.zeros(shape = (1,Xext.shape[1])) #initialize w\n",
        "    \n",
        "    w = one_pass2(Xext, y, w, 1)\n",
        "\n",
        "    Xext, y = shuffle(Xext, y, random_state=0)\n",
        "\n",
        "    wSGD2 = one_pass2(Xext, y, w, 1)\n",
        "    \n",
        "    wSGD2 = (wSGD2[0][:])\n",
        "    wSGD2 = np.reshape(wSGD2, [len(wSGD), 1])\n",
        "    return wSGD2\n",
        "\n",
        "\n",
        "wSGD2 = get_wSGD2(Xtr_ext, y_train)\n",
        "CCR = compute_CCR(Xte_ext, wSGD2, y_test)\n",
        "print(\"The test CCR using SGD with decay is\", CCR)\n",
        "print('wSGD2:', wSGD2)"
      ],
      "execution_count": null,
      "outputs": [
        {
          "output_type": "stream",
          "text": [
            "The test CCR using SGD with decay is 1.0\n",
            "wSGD2: [[ 0.92169208]\n",
            " [-2.0213996 ]]\n"
          ],
          "name": "stdout"
        }
      ]
    },
    {
      "cell_type": "markdown",
      "metadata": {
        "id": "tcnj3HYJHTqa"
      },
      "source": [
        "## **Question 5:** Testing the above methods on a real-world dataset (10 points)\n",
        "No code is required for this part. Getting part a to run correctly is not required for part b.\n",
        "\n",
        "The purpose of this question is to compare the three (four if you count SGD with decay as a separate one) methods on a real-world dataset. We will use the famous Iris dataset created by Sir Ronald Fisher (the same Fisher as in Fisher's Linear Discriminant). It contains feature measurements of 150 samples from three *Iris* flower species. We will combine two of the classes into a single negative class and the remaining class is the positive class. "
      ]
    },
    {
      "cell_type": "markdown",
      "metadata": {
        "id": "ekpBYEcfB8-3"
      },
      "source": [
        "### Problem a. (6 points)\n",
        "Run the cells below. The code for this part is provided to you, but it requires several earlier functions to be properly implemented to run. They need to be able to handle data with multiple features.\n",
        "\n",
        "You will be graded on how well the behavior of this part matches our expectation. Do NOT modify the code provided here; if you have issues running it, check the code you wrote in previous parts."
      ]
    },
    {
      "cell_type": "code",
      "metadata": {
        "id": "usHZVolZXXen"
      },
      "source": [
        "import pandas as pd\n",
        "from sklearn.datasets import load_iris\n",
        "from sklearn.preprocessing import normalize\n",
        "\n",
        "iris = load_iris()\n",
        "\n",
        "# Split data into feature vectors and labels\n",
        "X = iris.data\n",
        "y = iris.target\n",
        "# change the label values for binary classification\n",
        "y[:100] = -1\n",
        "y[100:] = 1"
      ],
      "execution_count": null,
      "outputs": []
    },
    {
      "cell_type": "code",
      "metadata": {
        "id": "8yfPgky0OvO-"
      },
      "source": [
        "X_train, X_test, y_train, y_test = train_test_split(X, y, random_state=1234, test_size=0.25)\n",
        "Xtr_ext = np.c_[X_train, np.ones(X_train.shape[0])]\n",
        "Xte_ext = np.c_[X_test, np.ones(X_test.shape[0])]"
      ],
      "execution_count": null,
      "outputs": []
    },
    {
      "cell_type": "code",
      "metadata": {
        "colab": {
          "base_uri": "https://localhost:8080/"
        },
        "id": "vEUTOZkLTZxk",
        "outputId": "46aae91d-ead7-41e2-a712-5a148d94628c"
      },
      "source": [
        "wOLS = get_wOLS_ext(X_train, y_train)\n",
        "CCR = compute_CCR(Xte_ext, wOLS, y_test)\n",
        "print(\"The test CCR using OLS is\", CCR)\n",
        "\n",
        "X1, X2 = seperate(X_train, y_train)\n",
        "m1, m2 = get_means(X1, X2)\n",
        "Sw = get_Sw(X1, X2, m1, m2)\n",
        "wFLD_ext = get_wFLD_ext(Sw, m1, m2)\n",
        "CCR = compute_CCR(Xte_ext, wFLD_ext, y_test)\n",
        "print(\"The test CCR using FLD is\", CCR)\n",
        "\n",
        "wSGD = get_wSGD(Xtr_ext, y_train)\n",
        "CCR = compute_CCR(Xte_ext, wSGD, y_test)\n",
        "print(\"The test CCR using SGD is\", CCR)\n",
        "\n",
        "wSGD2 = get_wSGD2(Xtr_ext, y_train)\n",
        "CCR = compute_CCR(Xte_ext, wSGD2, y_test)\n",
        "print(\"The test CCR using SGD with decay is\", CCR)"
      ],
      "execution_count": null,
      "outputs": [
        {
          "output_type": "stream",
          "text": [
            "The test CCR using OLS is 0.8947368421052632\n",
            "The test CCR using FLD is 0.8947368421052632\n",
            "The test CCR using SGD is 0.6052631578947368\n",
            "The test CCR using SGD with decay is 1.0\n"
          ],
          "name": "stdout"
        }
      ]
    },
    {
      "cell_type": "markdown",
      "metadata": {
        "id": "jxpckb9mCE_P"
      },
      "source": [
        "### Problem b. (4 points)\n",
        "A class containing sub-classes is quite common in real-world classifications. One direct effect of this is that within such a class, the feature vectors tend to be quite spread out (in distinct clusters). Comment on the effect this may have on OLS and FLD.\n",
        "\n",
        "Hint: If the previous part runs correctly, you should see OLS and FLD perform worse than the SGD algorithm from problem 4e. "
      ]
    },
    {
      "cell_type": "markdown",
      "metadata": {
        "id": "e71oQW2IFCt7"
      },
      "source": [
        "For OLS, having distinct clusters could give us a weight and bias that is not a good representation of the actual data. The clusters might skew the weight and bias, especially if each of the clusters are not varied equally, and this would affect the classifications assigned to the data values. For FLD (and linear classification), it is assumed that the data is unimodal Gaussian with single class means and a covariance. If the data has clustering, then the data might not be unimodal Gaussian, which would affect the accuracy of the classifier."
      ]
    }
  ]
}