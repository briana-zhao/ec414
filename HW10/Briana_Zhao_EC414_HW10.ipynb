{
  "nbformat": 4,
  "nbformat_minor": 0,
  "metadata": {
    "colab": {
      "name": "EC414_HW10 (1).ipynb",
      "provenance": [],
      "collapsed_sections": [],
      "toc_visible": true
    },
    "kernelspec": {
      "name": "python3",
      "display_name": "Python 3"
    },
    "language_info": {
      "name": "python"
    },
    "accelerator": "GPU",
    "widgets": {
      "application/vnd.jupyter.widget-state+json": {
        "c60117540fd54612b29cb33134e1c412": {
          "model_module": "@jupyter-widgets/controls",
          "model_name": "HBoxModel",
          "state": {
            "_view_name": "HBoxView",
            "_dom_classes": [],
            "_model_name": "HBoxModel",
            "_view_module": "@jupyter-widgets/controls",
            "_model_module_version": "1.5.0",
            "_view_count": null,
            "_view_module_version": "1.5.0",
            "box_style": "",
            "layout": "IPY_MODEL_84d80582d75845849b0f6b75de1e6aca",
            "_model_module": "@jupyter-widgets/controls",
            "children": [
              "IPY_MODEL_3c4232a9edda4c97a27a17863876807b",
              "IPY_MODEL_24dfe72d05a946e6aba08ceec62f5035"
            ]
          }
        },
        "84d80582d75845849b0f6b75de1e6aca": {
          "model_module": "@jupyter-widgets/base",
          "model_name": "LayoutModel",
          "state": {
            "_view_name": "LayoutView",
            "grid_template_rows": null,
            "right": null,
            "justify_content": null,
            "_view_module": "@jupyter-widgets/base",
            "overflow": null,
            "_model_module_version": "1.2.0",
            "_view_count": null,
            "flex_flow": null,
            "width": null,
            "min_width": null,
            "border": null,
            "align_items": null,
            "bottom": null,
            "_model_module": "@jupyter-widgets/base",
            "top": null,
            "grid_column": null,
            "overflow_y": null,
            "overflow_x": null,
            "grid_auto_flow": null,
            "grid_area": null,
            "grid_template_columns": null,
            "flex": null,
            "_model_name": "LayoutModel",
            "justify_items": null,
            "grid_row": null,
            "max_height": null,
            "align_content": null,
            "visibility": null,
            "align_self": null,
            "height": null,
            "min_height": null,
            "padding": null,
            "grid_auto_rows": null,
            "grid_gap": null,
            "max_width": null,
            "order": null,
            "_view_module_version": "1.2.0",
            "grid_template_areas": null,
            "object_position": null,
            "object_fit": null,
            "grid_auto_columns": null,
            "margin": null,
            "display": null,
            "left": null
          }
        },
        "3c4232a9edda4c97a27a17863876807b": {
          "model_module": "@jupyter-widgets/controls",
          "model_name": "FloatProgressModel",
          "state": {
            "_view_name": "ProgressView",
            "style": "IPY_MODEL_cd5acce19d4b453d84b2c59e02ae7a03",
            "_dom_classes": [],
            "description": "",
            "_model_name": "FloatProgressModel",
            "bar_style": "success",
            "max": 9912422,
            "_view_module": "@jupyter-widgets/controls",
            "_model_module_version": "1.5.0",
            "value": 9912422,
            "_view_count": null,
            "_view_module_version": "1.5.0",
            "orientation": "horizontal",
            "min": 0,
            "description_tooltip": null,
            "_model_module": "@jupyter-widgets/controls",
            "layout": "IPY_MODEL_f927c39f15e5435aa721635ce3762576"
          }
        },
        "24dfe72d05a946e6aba08ceec62f5035": {
          "model_module": "@jupyter-widgets/controls",
          "model_name": "HTMLModel",
          "state": {
            "_view_name": "HTMLView",
            "style": "IPY_MODEL_82fe8748ae744a53b5aaac97ea3a9345",
            "_dom_classes": [],
            "description": "",
            "_model_name": "HTMLModel",
            "placeholder": "​",
            "_view_module": "@jupyter-widgets/controls",
            "_model_module_version": "1.5.0",
            "value": " 9913344/? [08:57&lt;00:00, 18429.40it/s]",
            "_view_count": null,
            "_view_module_version": "1.5.0",
            "description_tooltip": null,
            "_model_module": "@jupyter-widgets/controls",
            "layout": "IPY_MODEL_7868131cc8ec4197a8baaaebf0b8a302"
          }
        },
        "cd5acce19d4b453d84b2c59e02ae7a03": {
          "model_module": "@jupyter-widgets/controls",
          "model_name": "ProgressStyleModel",
          "state": {
            "_view_name": "StyleView",
            "_model_name": "ProgressStyleModel",
            "description_width": "initial",
            "_view_module": "@jupyter-widgets/base",
            "_model_module_version": "1.5.0",
            "_view_count": null,
            "_view_module_version": "1.2.0",
            "bar_color": null,
            "_model_module": "@jupyter-widgets/controls"
          }
        },
        "f927c39f15e5435aa721635ce3762576": {
          "model_module": "@jupyter-widgets/base",
          "model_name": "LayoutModel",
          "state": {
            "_view_name": "LayoutView",
            "grid_template_rows": null,
            "right": null,
            "justify_content": null,
            "_view_module": "@jupyter-widgets/base",
            "overflow": null,
            "_model_module_version": "1.2.0",
            "_view_count": null,
            "flex_flow": null,
            "width": null,
            "min_width": null,
            "border": null,
            "align_items": null,
            "bottom": null,
            "_model_module": "@jupyter-widgets/base",
            "top": null,
            "grid_column": null,
            "overflow_y": null,
            "overflow_x": null,
            "grid_auto_flow": null,
            "grid_area": null,
            "grid_template_columns": null,
            "flex": null,
            "_model_name": "LayoutModel",
            "justify_items": null,
            "grid_row": null,
            "max_height": null,
            "align_content": null,
            "visibility": null,
            "align_self": null,
            "height": null,
            "min_height": null,
            "padding": null,
            "grid_auto_rows": null,
            "grid_gap": null,
            "max_width": null,
            "order": null,
            "_view_module_version": "1.2.0",
            "grid_template_areas": null,
            "object_position": null,
            "object_fit": null,
            "grid_auto_columns": null,
            "margin": null,
            "display": null,
            "left": null
          }
        },
        "82fe8748ae744a53b5aaac97ea3a9345": {
          "model_module": "@jupyter-widgets/controls",
          "model_name": "DescriptionStyleModel",
          "state": {
            "_view_name": "StyleView",
            "_model_name": "DescriptionStyleModel",
            "description_width": "",
            "_view_module": "@jupyter-widgets/base",
            "_model_module_version": "1.5.0",
            "_view_count": null,
            "_view_module_version": "1.2.0",
            "_model_module": "@jupyter-widgets/controls"
          }
        },
        "7868131cc8ec4197a8baaaebf0b8a302": {
          "model_module": "@jupyter-widgets/base",
          "model_name": "LayoutModel",
          "state": {
            "_view_name": "LayoutView",
            "grid_template_rows": null,
            "right": null,
            "justify_content": null,
            "_view_module": "@jupyter-widgets/base",
            "overflow": null,
            "_model_module_version": "1.2.0",
            "_view_count": null,
            "flex_flow": null,
            "width": null,
            "min_width": null,
            "border": null,
            "align_items": null,
            "bottom": null,
            "_model_module": "@jupyter-widgets/base",
            "top": null,
            "grid_column": null,
            "overflow_y": null,
            "overflow_x": null,
            "grid_auto_flow": null,
            "grid_area": null,
            "grid_template_columns": null,
            "flex": null,
            "_model_name": "LayoutModel",
            "justify_items": null,
            "grid_row": null,
            "max_height": null,
            "align_content": null,
            "visibility": null,
            "align_self": null,
            "height": null,
            "min_height": null,
            "padding": null,
            "grid_auto_rows": null,
            "grid_gap": null,
            "max_width": null,
            "order": null,
            "_view_module_version": "1.2.0",
            "grid_template_areas": null,
            "object_position": null,
            "object_fit": null,
            "grid_auto_columns": null,
            "margin": null,
            "display": null,
            "left": null
          }
        },
        "4a20be30596d48be928231eca16bf1ac": {
          "model_module": "@jupyter-widgets/controls",
          "model_name": "HBoxModel",
          "state": {
            "_view_name": "HBoxView",
            "_dom_classes": [],
            "_model_name": "HBoxModel",
            "_view_module": "@jupyter-widgets/controls",
            "_model_module_version": "1.5.0",
            "_view_count": null,
            "_view_module_version": "1.5.0",
            "box_style": "",
            "layout": "IPY_MODEL_7021aee3803a4575ab761fcb3e2a3ed4",
            "_model_module": "@jupyter-widgets/controls",
            "children": [
              "IPY_MODEL_ff054e712d534193aa37cb9d39dc8b85",
              "IPY_MODEL_89fed9b3eb274ddba3379983e2ad530d"
            ]
          }
        },
        "7021aee3803a4575ab761fcb3e2a3ed4": {
          "model_module": "@jupyter-widgets/base",
          "model_name": "LayoutModel",
          "state": {
            "_view_name": "LayoutView",
            "grid_template_rows": null,
            "right": null,
            "justify_content": null,
            "_view_module": "@jupyter-widgets/base",
            "overflow": null,
            "_model_module_version": "1.2.0",
            "_view_count": null,
            "flex_flow": null,
            "width": null,
            "min_width": null,
            "border": null,
            "align_items": null,
            "bottom": null,
            "_model_module": "@jupyter-widgets/base",
            "top": null,
            "grid_column": null,
            "overflow_y": null,
            "overflow_x": null,
            "grid_auto_flow": null,
            "grid_area": null,
            "grid_template_columns": null,
            "flex": null,
            "_model_name": "LayoutModel",
            "justify_items": null,
            "grid_row": null,
            "max_height": null,
            "align_content": null,
            "visibility": null,
            "align_self": null,
            "height": null,
            "min_height": null,
            "padding": null,
            "grid_auto_rows": null,
            "grid_gap": null,
            "max_width": null,
            "order": null,
            "_view_module_version": "1.2.0",
            "grid_template_areas": null,
            "object_position": null,
            "object_fit": null,
            "grid_auto_columns": null,
            "margin": null,
            "display": null,
            "left": null
          }
        },
        "ff054e712d534193aa37cb9d39dc8b85": {
          "model_module": "@jupyter-widgets/controls",
          "model_name": "FloatProgressModel",
          "state": {
            "_view_name": "ProgressView",
            "style": "IPY_MODEL_ce1456db40074cb1bad9eb1bbf16df77",
            "_dom_classes": [],
            "description": "",
            "_model_name": "FloatProgressModel",
            "bar_style": "success",
            "max": 28881,
            "_view_module": "@jupyter-widgets/controls",
            "_model_module_version": "1.5.0",
            "value": 28881,
            "_view_count": null,
            "_view_module_version": "1.5.0",
            "orientation": "horizontal",
            "min": 0,
            "description_tooltip": null,
            "_model_module": "@jupyter-widgets/controls",
            "layout": "IPY_MODEL_5286f102fa8242cf931eb4f119e0436a"
          }
        },
        "89fed9b3eb274ddba3379983e2ad530d": {
          "model_module": "@jupyter-widgets/controls",
          "model_name": "HTMLModel",
          "state": {
            "_view_name": "HTMLView",
            "style": "IPY_MODEL_4d2d65ba591d4e68bcc5aa0dbfb354a2",
            "_dom_classes": [],
            "description": "",
            "_model_name": "HTMLModel",
            "placeholder": "​",
            "_view_module": "@jupyter-widgets/controls",
            "_model_module_version": "1.5.0",
            "value": " 29696/? [06:04&lt;00:00, 81.42it/s]",
            "_view_count": null,
            "_view_module_version": "1.5.0",
            "description_tooltip": null,
            "_model_module": "@jupyter-widgets/controls",
            "layout": "IPY_MODEL_88e7b97adcb3468aa815d60ec8d947ee"
          }
        },
        "ce1456db40074cb1bad9eb1bbf16df77": {
          "model_module": "@jupyter-widgets/controls",
          "model_name": "ProgressStyleModel",
          "state": {
            "_view_name": "StyleView",
            "_model_name": "ProgressStyleModel",
            "description_width": "initial",
            "_view_module": "@jupyter-widgets/base",
            "_model_module_version": "1.5.0",
            "_view_count": null,
            "_view_module_version": "1.2.0",
            "bar_color": null,
            "_model_module": "@jupyter-widgets/controls"
          }
        },
        "5286f102fa8242cf931eb4f119e0436a": {
          "model_module": "@jupyter-widgets/base",
          "model_name": "LayoutModel",
          "state": {
            "_view_name": "LayoutView",
            "grid_template_rows": null,
            "right": null,
            "justify_content": null,
            "_view_module": "@jupyter-widgets/base",
            "overflow": null,
            "_model_module_version": "1.2.0",
            "_view_count": null,
            "flex_flow": null,
            "width": null,
            "min_width": null,
            "border": null,
            "align_items": null,
            "bottom": null,
            "_model_module": "@jupyter-widgets/base",
            "top": null,
            "grid_column": null,
            "overflow_y": null,
            "overflow_x": null,
            "grid_auto_flow": null,
            "grid_area": null,
            "grid_template_columns": null,
            "flex": null,
            "_model_name": "LayoutModel",
            "justify_items": null,
            "grid_row": null,
            "max_height": null,
            "align_content": null,
            "visibility": null,
            "align_self": null,
            "height": null,
            "min_height": null,
            "padding": null,
            "grid_auto_rows": null,
            "grid_gap": null,
            "max_width": null,
            "order": null,
            "_view_module_version": "1.2.0",
            "grid_template_areas": null,
            "object_position": null,
            "object_fit": null,
            "grid_auto_columns": null,
            "margin": null,
            "display": null,
            "left": null
          }
        },
        "4d2d65ba591d4e68bcc5aa0dbfb354a2": {
          "model_module": "@jupyter-widgets/controls",
          "model_name": "DescriptionStyleModel",
          "state": {
            "_view_name": "StyleView",
            "_model_name": "DescriptionStyleModel",
            "description_width": "",
            "_view_module": "@jupyter-widgets/base",
            "_model_module_version": "1.5.0",
            "_view_count": null,
            "_view_module_version": "1.2.0",
            "_model_module": "@jupyter-widgets/controls"
          }
        },
        "88e7b97adcb3468aa815d60ec8d947ee": {
          "model_module": "@jupyter-widgets/base",
          "model_name": "LayoutModel",
          "state": {
            "_view_name": "LayoutView",
            "grid_template_rows": null,
            "right": null,
            "justify_content": null,
            "_view_module": "@jupyter-widgets/base",
            "overflow": null,
            "_model_module_version": "1.2.0",
            "_view_count": null,
            "flex_flow": null,
            "width": null,
            "min_width": null,
            "border": null,
            "align_items": null,
            "bottom": null,
            "_model_module": "@jupyter-widgets/base",
            "top": null,
            "grid_column": null,
            "overflow_y": null,
            "overflow_x": null,
            "grid_auto_flow": null,
            "grid_area": null,
            "grid_template_columns": null,
            "flex": null,
            "_model_name": "LayoutModel",
            "justify_items": null,
            "grid_row": null,
            "max_height": null,
            "align_content": null,
            "visibility": null,
            "align_self": null,
            "height": null,
            "min_height": null,
            "padding": null,
            "grid_auto_rows": null,
            "grid_gap": null,
            "max_width": null,
            "order": null,
            "_view_module_version": "1.2.0",
            "grid_template_areas": null,
            "object_position": null,
            "object_fit": null,
            "grid_auto_columns": null,
            "margin": null,
            "display": null,
            "left": null
          }
        },
        "9ad6d1ca5859483ea4e50b58ccf44e2c": {
          "model_module": "@jupyter-widgets/controls",
          "model_name": "HBoxModel",
          "state": {
            "_view_name": "HBoxView",
            "_dom_classes": [],
            "_model_name": "HBoxModel",
            "_view_module": "@jupyter-widgets/controls",
            "_model_module_version": "1.5.0",
            "_view_count": null,
            "_view_module_version": "1.5.0",
            "box_style": "",
            "layout": "IPY_MODEL_52bd06d16acd449690dffd06420250f3",
            "_model_module": "@jupyter-widgets/controls",
            "children": [
              "IPY_MODEL_aa1d822d418f4d50b31502080f11b6bc",
              "IPY_MODEL_60c838a259564c51887c90730c7fd5c7"
            ]
          }
        },
        "52bd06d16acd449690dffd06420250f3": {
          "model_module": "@jupyter-widgets/base",
          "model_name": "LayoutModel",
          "state": {
            "_view_name": "LayoutView",
            "grid_template_rows": null,
            "right": null,
            "justify_content": null,
            "_view_module": "@jupyter-widgets/base",
            "overflow": null,
            "_model_module_version": "1.2.0",
            "_view_count": null,
            "flex_flow": null,
            "width": null,
            "min_width": null,
            "border": null,
            "align_items": null,
            "bottom": null,
            "_model_module": "@jupyter-widgets/base",
            "top": null,
            "grid_column": null,
            "overflow_y": null,
            "overflow_x": null,
            "grid_auto_flow": null,
            "grid_area": null,
            "grid_template_columns": null,
            "flex": null,
            "_model_name": "LayoutModel",
            "justify_items": null,
            "grid_row": null,
            "max_height": null,
            "align_content": null,
            "visibility": null,
            "align_self": null,
            "height": null,
            "min_height": null,
            "padding": null,
            "grid_auto_rows": null,
            "grid_gap": null,
            "max_width": null,
            "order": null,
            "_view_module_version": "1.2.0",
            "grid_template_areas": null,
            "object_position": null,
            "object_fit": null,
            "grid_auto_columns": null,
            "margin": null,
            "display": null,
            "left": null
          }
        },
        "aa1d822d418f4d50b31502080f11b6bc": {
          "model_module": "@jupyter-widgets/controls",
          "model_name": "FloatProgressModel",
          "state": {
            "_view_name": "ProgressView",
            "style": "IPY_MODEL_d7a903fbd1974bb1994b1e37773bf803",
            "_dom_classes": [],
            "description": "",
            "_model_name": "FloatProgressModel",
            "bar_style": "success",
            "max": 1648877,
            "_view_module": "@jupyter-widgets/controls",
            "_model_module_version": "1.5.0",
            "value": 1648877,
            "_view_count": null,
            "_view_module_version": "1.5.0",
            "orientation": "horizontal",
            "min": 0,
            "description_tooltip": null,
            "_model_module": "@jupyter-widgets/controls",
            "layout": "IPY_MODEL_6d3173347dce465a9cbfac58e948f0e0"
          }
        },
        "60c838a259564c51887c90730c7fd5c7": {
          "model_module": "@jupyter-widgets/controls",
          "model_name": "HTMLModel",
          "state": {
            "_view_name": "HTMLView",
            "style": "IPY_MODEL_12d3fa936d9a417f9d1d8b9a9bce79d8",
            "_dom_classes": [],
            "description": "",
            "_model_name": "HTMLModel",
            "placeholder": "​",
            "_view_module": "@jupyter-widgets/controls",
            "_model_module_version": "1.5.0",
            "value": " 1649664/? [00:29&lt;00:00, 56327.58it/s]",
            "_view_count": null,
            "_view_module_version": "1.5.0",
            "description_tooltip": null,
            "_model_module": "@jupyter-widgets/controls",
            "layout": "IPY_MODEL_6db57b2fa6d143de87c3adba1e8eecb3"
          }
        },
        "d7a903fbd1974bb1994b1e37773bf803": {
          "model_module": "@jupyter-widgets/controls",
          "model_name": "ProgressStyleModel",
          "state": {
            "_view_name": "StyleView",
            "_model_name": "ProgressStyleModel",
            "description_width": "initial",
            "_view_module": "@jupyter-widgets/base",
            "_model_module_version": "1.5.0",
            "_view_count": null,
            "_view_module_version": "1.2.0",
            "bar_color": null,
            "_model_module": "@jupyter-widgets/controls"
          }
        },
        "6d3173347dce465a9cbfac58e948f0e0": {
          "model_module": "@jupyter-widgets/base",
          "model_name": "LayoutModel",
          "state": {
            "_view_name": "LayoutView",
            "grid_template_rows": null,
            "right": null,
            "justify_content": null,
            "_view_module": "@jupyter-widgets/base",
            "overflow": null,
            "_model_module_version": "1.2.0",
            "_view_count": null,
            "flex_flow": null,
            "width": null,
            "min_width": null,
            "border": null,
            "align_items": null,
            "bottom": null,
            "_model_module": "@jupyter-widgets/base",
            "top": null,
            "grid_column": null,
            "overflow_y": null,
            "overflow_x": null,
            "grid_auto_flow": null,
            "grid_area": null,
            "grid_template_columns": null,
            "flex": null,
            "_model_name": "LayoutModel",
            "justify_items": null,
            "grid_row": null,
            "max_height": null,
            "align_content": null,
            "visibility": null,
            "align_self": null,
            "height": null,
            "min_height": null,
            "padding": null,
            "grid_auto_rows": null,
            "grid_gap": null,
            "max_width": null,
            "order": null,
            "_view_module_version": "1.2.0",
            "grid_template_areas": null,
            "object_position": null,
            "object_fit": null,
            "grid_auto_columns": null,
            "margin": null,
            "display": null,
            "left": null
          }
        },
        "12d3fa936d9a417f9d1d8b9a9bce79d8": {
          "model_module": "@jupyter-widgets/controls",
          "model_name": "DescriptionStyleModel",
          "state": {
            "_view_name": "StyleView",
            "_model_name": "DescriptionStyleModel",
            "description_width": "",
            "_view_module": "@jupyter-widgets/base",
            "_model_module_version": "1.5.0",
            "_view_count": null,
            "_view_module_version": "1.2.0",
            "_model_module": "@jupyter-widgets/controls"
          }
        },
        "6db57b2fa6d143de87c3adba1e8eecb3": {
          "model_module": "@jupyter-widgets/base",
          "model_name": "LayoutModel",
          "state": {
            "_view_name": "LayoutView",
            "grid_template_rows": null,
            "right": null,
            "justify_content": null,
            "_view_module": "@jupyter-widgets/base",
            "overflow": null,
            "_model_module_version": "1.2.0",
            "_view_count": null,
            "flex_flow": null,
            "width": null,
            "min_width": null,
            "border": null,
            "align_items": null,
            "bottom": null,
            "_model_module": "@jupyter-widgets/base",
            "top": null,
            "grid_column": null,
            "overflow_y": null,
            "overflow_x": null,
            "grid_auto_flow": null,
            "grid_area": null,
            "grid_template_columns": null,
            "flex": null,
            "_model_name": "LayoutModel",
            "justify_items": null,
            "grid_row": null,
            "max_height": null,
            "align_content": null,
            "visibility": null,
            "align_self": null,
            "height": null,
            "min_height": null,
            "padding": null,
            "grid_auto_rows": null,
            "grid_gap": null,
            "max_width": null,
            "order": null,
            "_view_module_version": "1.2.0",
            "grid_template_areas": null,
            "object_position": null,
            "object_fit": null,
            "grid_auto_columns": null,
            "margin": null,
            "display": null,
            "left": null
          }
        },
        "65235f8864e8415a9534117115f8cc54": {
          "model_module": "@jupyter-widgets/controls",
          "model_name": "HBoxModel",
          "state": {
            "_view_name": "HBoxView",
            "_dom_classes": [],
            "_model_name": "HBoxModel",
            "_view_module": "@jupyter-widgets/controls",
            "_model_module_version": "1.5.0",
            "_view_count": null,
            "_view_module_version": "1.5.0",
            "box_style": "",
            "layout": "IPY_MODEL_f301b4375ed64d43a70ee2f690fc027e",
            "_model_module": "@jupyter-widgets/controls",
            "children": [
              "IPY_MODEL_ca7389b9b50646669fa97a3bb8a85177",
              "IPY_MODEL_62e545d517fe4d3db33aee2673f8c491"
            ]
          }
        },
        "f301b4375ed64d43a70ee2f690fc027e": {
          "model_module": "@jupyter-widgets/base",
          "model_name": "LayoutModel",
          "state": {
            "_view_name": "LayoutView",
            "grid_template_rows": null,
            "right": null,
            "justify_content": null,
            "_view_module": "@jupyter-widgets/base",
            "overflow": null,
            "_model_module_version": "1.2.0",
            "_view_count": null,
            "flex_flow": null,
            "width": null,
            "min_width": null,
            "border": null,
            "align_items": null,
            "bottom": null,
            "_model_module": "@jupyter-widgets/base",
            "top": null,
            "grid_column": null,
            "overflow_y": null,
            "overflow_x": null,
            "grid_auto_flow": null,
            "grid_area": null,
            "grid_template_columns": null,
            "flex": null,
            "_model_name": "LayoutModel",
            "justify_items": null,
            "grid_row": null,
            "max_height": null,
            "align_content": null,
            "visibility": null,
            "align_self": null,
            "height": null,
            "min_height": null,
            "padding": null,
            "grid_auto_rows": null,
            "grid_gap": null,
            "max_width": null,
            "order": null,
            "_view_module_version": "1.2.0",
            "grid_template_areas": null,
            "object_position": null,
            "object_fit": null,
            "grid_auto_columns": null,
            "margin": null,
            "display": null,
            "left": null
          }
        },
        "ca7389b9b50646669fa97a3bb8a85177": {
          "model_module": "@jupyter-widgets/controls",
          "model_name": "FloatProgressModel",
          "state": {
            "_view_name": "ProgressView",
            "style": "IPY_MODEL_05d894fcdd2a4c99b7a73870fe844239",
            "_dom_classes": [],
            "description": "",
            "_model_name": "FloatProgressModel",
            "bar_style": "success",
            "max": 4542,
            "_view_module": "@jupyter-widgets/controls",
            "_model_module_version": "1.5.0",
            "value": 4542,
            "_view_count": null,
            "_view_module_version": "1.5.0",
            "orientation": "horizontal",
            "min": 0,
            "description_tooltip": null,
            "_model_module": "@jupyter-widgets/controls",
            "layout": "IPY_MODEL_a099fe58b69a4245825b200ae09e6c5a"
          }
        },
        "62e545d517fe4d3db33aee2673f8c491": {
          "model_module": "@jupyter-widgets/controls",
          "model_name": "HTMLModel",
          "state": {
            "_view_name": "HTMLView",
            "style": "IPY_MODEL_1b27bd4a14e541a19c31ce7739cc26ee",
            "_dom_classes": [],
            "description": "",
            "_model_name": "HTMLModel",
            "placeholder": "​",
            "_view_module": "@jupyter-widgets/controls",
            "_model_module_version": "1.5.0",
            "value": " 5120/? [00:06&lt;00:00, 809.88it/s]",
            "_view_count": null,
            "_view_module_version": "1.5.0",
            "description_tooltip": null,
            "_model_module": "@jupyter-widgets/controls",
            "layout": "IPY_MODEL_8ec1c21e702048c1b460592d33a849a1"
          }
        },
        "05d894fcdd2a4c99b7a73870fe844239": {
          "model_module": "@jupyter-widgets/controls",
          "model_name": "ProgressStyleModel",
          "state": {
            "_view_name": "StyleView",
            "_model_name": "ProgressStyleModel",
            "description_width": "initial",
            "_view_module": "@jupyter-widgets/base",
            "_model_module_version": "1.5.0",
            "_view_count": null,
            "_view_module_version": "1.2.0",
            "bar_color": null,
            "_model_module": "@jupyter-widgets/controls"
          }
        },
        "a099fe58b69a4245825b200ae09e6c5a": {
          "model_module": "@jupyter-widgets/base",
          "model_name": "LayoutModel",
          "state": {
            "_view_name": "LayoutView",
            "grid_template_rows": null,
            "right": null,
            "justify_content": null,
            "_view_module": "@jupyter-widgets/base",
            "overflow": null,
            "_model_module_version": "1.2.0",
            "_view_count": null,
            "flex_flow": null,
            "width": null,
            "min_width": null,
            "border": null,
            "align_items": null,
            "bottom": null,
            "_model_module": "@jupyter-widgets/base",
            "top": null,
            "grid_column": null,
            "overflow_y": null,
            "overflow_x": null,
            "grid_auto_flow": null,
            "grid_area": null,
            "grid_template_columns": null,
            "flex": null,
            "_model_name": "LayoutModel",
            "justify_items": null,
            "grid_row": null,
            "max_height": null,
            "align_content": null,
            "visibility": null,
            "align_self": null,
            "height": null,
            "min_height": null,
            "padding": null,
            "grid_auto_rows": null,
            "grid_gap": null,
            "max_width": null,
            "order": null,
            "_view_module_version": "1.2.0",
            "grid_template_areas": null,
            "object_position": null,
            "object_fit": null,
            "grid_auto_columns": null,
            "margin": null,
            "display": null,
            "left": null
          }
        },
        "1b27bd4a14e541a19c31ce7739cc26ee": {
          "model_module": "@jupyter-widgets/controls",
          "model_name": "DescriptionStyleModel",
          "state": {
            "_view_name": "StyleView",
            "_model_name": "DescriptionStyleModel",
            "description_width": "",
            "_view_module": "@jupyter-widgets/base",
            "_model_module_version": "1.5.0",
            "_view_count": null,
            "_view_module_version": "1.2.0",
            "_model_module": "@jupyter-widgets/controls"
          }
        },
        "8ec1c21e702048c1b460592d33a849a1": {
          "model_module": "@jupyter-widgets/base",
          "model_name": "LayoutModel",
          "state": {
            "_view_name": "LayoutView",
            "grid_template_rows": null,
            "right": null,
            "justify_content": null,
            "_view_module": "@jupyter-widgets/base",
            "overflow": null,
            "_model_module_version": "1.2.0",
            "_view_count": null,
            "flex_flow": null,
            "width": null,
            "min_width": null,
            "border": null,
            "align_items": null,
            "bottom": null,
            "_model_module": "@jupyter-widgets/base",
            "top": null,
            "grid_column": null,
            "overflow_y": null,
            "overflow_x": null,
            "grid_auto_flow": null,
            "grid_area": null,
            "grid_template_columns": null,
            "flex": null,
            "_model_name": "LayoutModel",
            "justify_items": null,
            "grid_row": null,
            "max_height": null,
            "align_content": null,
            "visibility": null,
            "align_self": null,
            "height": null,
            "min_height": null,
            "padding": null,
            "grid_auto_rows": null,
            "grid_gap": null,
            "max_width": null,
            "order": null,
            "_view_module_version": "1.2.0",
            "grid_template_areas": null,
            "object_position": null,
            "object_fit": null,
            "grid_auto_columns": null,
            "margin": null,
            "display": null,
            "left": null
          }
        }
      }
    }
  },
  "cells": [
    {
      "cell_type": "markdown",
      "metadata": {
        "id": "FA3HgvMuLFa_"
      },
      "source": [
        "# Homework 10: Neural Networks\n",
        "by Yousif Khaireddin\n",
        "\n",
        "**Due date**: April 28, Wednesday by 11:59pm\n"
      ]
    },
    {
      "cell_type": "markdown",
      "metadata": {
        "id": "3lGwvIL2LWPq"
      },
      "source": [
        "## Setup"
      ]
    },
    {
      "cell_type": "markdown",
      "metadata": {
        "id": "aJca6HvbLYYA"
      },
      "source": [
        "To run and solve this assignment, you must have access to a working Jupyter Notebook installation. We recommend Google Colab. If you are already familiar with Jupyter and have your own installation, you may use it; however, you will have to tweak Colab-specific commands we've entered here (for example, file uploads).\n",
        "\n",
        "To use Google Colab:\n",
        "\n",
        "1. Download this `ipynb` file.\n",
        "2. Navigate to https://colab.research.google.com/ and select `Upload` in the pop-up window.\n",
        "3. Upload this file. It will then open in Colab.\n",
        "\n",
        "The below statements assume that you have already followed these instructions. If you need help with Python syntax, NumPy, or Matplotlib, you might find Week 1 discussion material useful.\n",
        "\n",
        "To run code in a cell or to render Markdown+LaTeX press Ctrl+Enter or \"`Run`\" button above. To edit any code or text cell, double-click on its content. Put your solution into boxes marked with **`[double click here to add a solution]`** and press Ctrl+Enter to render text. You can add cells via `+` sign at the top left corner.\n",
        "\n",
        "**Submission instructions**: please upload your completed solution file as well as a scan of any handwritten answers to Gradescope by **April 28th at midnight**.."
      ]
    },
    {
      "cell_type": "markdown",
      "metadata": {
        "id": "21L6Ct-yWkzB"
      },
      "source": [
        "## **Question 1:** Useful Functions and Setup\n"
      ]
    },
    {
      "cell_type": "code",
      "metadata": {
        "id": "GmPYFTaHWjqG"
      },
      "source": [
        "import torch\n",
        "import torchvision\n",
        "from torchvision import transforms, datasets\n",
        "import torch.nn as nn\n",
        "import torch.nn.functional as F\n",
        "import torch.optim as optim\n",
        "from matplotlib import pyplot as plt\n",
        "\n",
        "device = torch.device(\"cuda:0\" if torch.cuda.is_available() else \"cpu\")"
      ],
      "execution_count": null,
      "outputs": []
    },
    {
      "cell_type": "markdown",
      "metadata": {
        "id": "qOKHdi56W9ba"
      },
      "source": [
        "### Loading Dataset"
      ]
    },
    {
      "cell_type": "markdown",
      "metadata": {
        "id": "QTJuvHbtXGam"
      },
      "source": [
        "Using the datasets module within torchvision, download the MNIST dataset.\n",
        "1. Download both the training dataset as well as the testing dataset.\n",
        "2. Using _torch.utils.data.random_split_ seperate the training dataset into 50000 training samples and 10000 validation samples "
      ]
    },
    {
      "cell_type": "code",
      "metadata": {
        "id": "sy0TPPOIW0NV",
        "colab": {
          "base_uri": "https://localhost:8080/",
          "height": 573,
          "referenced_widgets": [
            "c60117540fd54612b29cb33134e1c412",
            "84d80582d75845849b0f6b75de1e6aca",
            "3c4232a9edda4c97a27a17863876807b",
            "24dfe72d05a946e6aba08ceec62f5035",
            "cd5acce19d4b453d84b2c59e02ae7a03",
            "f927c39f15e5435aa721635ce3762576",
            "82fe8748ae744a53b5aaac97ea3a9345",
            "7868131cc8ec4197a8baaaebf0b8a302",
            "4a20be30596d48be928231eca16bf1ac",
            "7021aee3803a4575ab761fcb3e2a3ed4",
            "ff054e712d534193aa37cb9d39dc8b85",
            "89fed9b3eb274ddba3379983e2ad530d",
            "ce1456db40074cb1bad9eb1bbf16df77",
            "5286f102fa8242cf931eb4f119e0436a",
            "4d2d65ba591d4e68bcc5aa0dbfb354a2",
            "88e7b97adcb3468aa815d60ec8d947ee",
            "9ad6d1ca5859483ea4e50b58ccf44e2c",
            "52bd06d16acd449690dffd06420250f3",
            "aa1d822d418f4d50b31502080f11b6bc",
            "60c838a259564c51887c90730c7fd5c7",
            "d7a903fbd1974bb1994b1e37773bf803",
            "6d3173347dce465a9cbfac58e948f0e0",
            "12d3fa936d9a417f9d1d8b9a9bce79d8",
            "6db57b2fa6d143de87c3adba1e8eecb3",
            "65235f8864e8415a9534117115f8cc54",
            "f301b4375ed64d43a70ee2f690fc027e",
            "ca7389b9b50646669fa97a3bb8a85177",
            "62e545d517fe4d3db33aee2673f8c491",
            "05d894fcdd2a4c99b7a73870fe844239",
            "a099fe58b69a4245825b200ae09e6c5a",
            "1b27bd4a14e541a19c31ce7739cc26ee",
            "8ec1c21e702048c1b460592d33a849a1"
          ]
        },
        "outputId": "27ddf2f3-c0be-41c9-9d64-2dbfa58edad0"
      },
      "source": [
        "# Training and validation data\n",
        "train_dataset = datasets.MNIST(\"\", train=True, download=True, transform=transforms.Compose([transforms.ToTensor()]))\n",
        "train_dataset, val_dataset = torch.utils.data.random_split(train_dataset, [50000, 10000])\n",
        "\n",
        "# Testing data\n",
        "test_dataset = datasets.MNIST(\"\", train=False, download=True, transform=transforms.Compose([transforms.ToTensor()]))"
      ],
      "execution_count": null,
      "outputs": [
        {
          "output_type": "stream",
          "text": [
            "Downloading http://yann.lecun.com/exdb/mnist/train-images-idx3-ubyte.gz\n",
            "Downloading http://yann.lecun.com/exdb/mnist/train-images-idx3-ubyte.gz to MNIST/raw/train-images-idx3-ubyte.gz\n"
          ],
          "name": "stdout"
        },
        {
          "output_type": "display_data",
          "data": {
            "application/vnd.jupyter.widget-view+json": {
              "model_id": "c60117540fd54612b29cb33134e1c412",
              "version_minor": 0,
              "version_major": 2
            },
            "text/plain": [
              "HBox(children=(FloatProgress(value=0.0, max=9912422.0), HTML(value='')))"
            ]
          },
          "metadata": {
            "tags": []
          }
        },
        {
          "output_type": "stream",
          "text": [
            "\n",
            "Extracting MNIST/raw/train-images-idx3-ubyte.gz to MNIST/raw\n",
            "\n",
            "Downloading http://yann.lecun.com/exdb/mnist/train-labels-idx1-ubyte.gz\n",
            "Downloading http://yann.lecun.com/exdb/mnist/train-labels-idx1-ubyte.gz to MNIST/raw/train-labels-idx1-ubyte.gz\n"
          ],
          "name": "stdout"
        },
        {
          "output_type": "display_data",
          "data": {
            "application/vnd.jupyter.widget-view+json": {
              "model_id": "4a20be30596d48be928231eca16bf1ac",
              "version_minor": 0,
              "version_major": 2
            },
            "text/plain": [
              "HBox(children=(FloatProgress(value=0.0, max=28881.0), HTML(value='')))"
            ]
          },
          "metadata": {
            "tags": []
          }
        },
        {
          "output_type": "stream",
          "text": [
            "\n",
            "Extracting MNIST/raw/train-labels-idx1-ubyte.gz to MNIST/raw\n",
            "\n",
            "Downloading http://yann.lecun.com/exdb/mnist/t10k-images-idx3-ubyte.gz\n",
            "Downloading http://yann.lecun.com/exdb/mnist/t10k-images-idx3-ubyte.gz to MNIST/raw/t10k-images-idx3-ubyte.gz\n"
          ],
          "name": "stdout"
        },
        {
          "output_type": "display_data",
          "data": {
            "application/vnd.jupyter.widget-view+json": {
              "model_id": "9ad6d1ca5859483ea4e50b58ccf44e2c",
              "version_minor": 0,
              "version_major": 2
            },
            "text/plain": [
              "HBox(children=(FloatProgress(value=0.0, max=1648877.0), HTML(value='')))"
            ]
          },
          "metadata": {
            "tags": []
          }
        },
        {
          "output_type": "stream",
          "text": [
            "\n",
            "Extracting MNIST/raw/t10k-images-idx3-ubyte.gz to MNIST/raw\n",
            "\n",
            "Downloading http://yann.lecun.com/exdb/mnist/t10k-labels-idx1-ubyte.gz\n",
            "Downloading http://yann.lecun.com/exdb/mnist/t10k-labels-idx1-ubyte.gz to MNIST/raw/t10k-labels-idx1-ubyte.gz\n"
          ],
          "name": "stdout"
        },
        {
          "output_type": "display_data",
          "data": {
            "application/vnd.jupyter.widget-view+json": {
              "model_id": "65235f8864e8415a9534117115f8cc54",
              "version_minor": 0,
              "version_major": 2
            },
            "text/plain": [
              "HBox(children=(FloatProgress(value=0.0, max=4542.0), HTML(value='')))"
            ]
          },
          "metadata": {
            "tags": []
          }
        },
        {
          "output_type": "stream",
          "text": [
            "\n",
            "Extracting MNIST/raw/t10k-labels-idx1-ubyte.gz to MNIST/raw\n",
            "\n",
            "Processing...\n",
            "Done!\n"
          ],
          "name": "stdout"
        },
        {
          "output_type": "stream",
          "text": [
            "/usr/local/lib/python3.7/dist-packages/torchvision/datasets/mnist.py:502: UserWarning: The given NumPy array is not writeable, and PyTorch does not support non-writeable tensors. This means you can write to the underlying (supposedly non-writeable) NumPy array using the tensor. You may want to copy the array to protect its data or make it writeable before converting it to a tensor. This type of warning will be suppressed for the rest of this program. (Triggered internally at  /pytorch/torch/csrc/utils/tensor_numpy.cpp:143.)\n",
            "  return torch.from_numpy(parsed.astype(m[2], copy=False)).view(*s)\n"
          ],
          "name": "stderr"
        }
      ]
    },
    {
      "cell_type": "code",
      "metadata": {
        "colab": {
          "base_uri": "https://localhost:8080/"
        },
        "id": "UHpxRhffW2S0",
        "outputId": "314f5797-b77f-4631-f825-200d250f6ef2"
      },
      "source": [
        "print(\"Number of Training Samples:\", len(train_dataset), sep='\\t')\n",
        "print(\"Number of Validation Samples:\", len(val_dataset), sep='\\t')\n",
        "print(\"Number of Testing Samples:\", len(test_dataset), sep='\\t')"
      ],
      "execution_count": null,
      "outputs": [
        {
          "output_type": "stream",
          "text": [
            "Number of Training Samples:\t50000\n",
            "Number of Validation Samples:\t10000\n",
            "Number of Testing Samples:\t10000\n"
          ],
          "name": "stdout"
        }
      ]
    },
    {
      "cell_type": "markdown",
      "metadata": {
        "id": "bbdb_rMIXtnl"
      },
      "source": [
        "Build your dataloaders using the datasets above. Make sure to use a batchsize of 64 and to shuffle your dataset."
      ]
    },
    {
      "cell_type": "code",
      "metadata": {
        "colab": {
          "base_uri": "https://localhost:8080/"
        },
        "id": "BBb-AgXILscc",
        "outputId": "27fb136c-719a-4a86-8ea0-ed8de5082677"
      },
      "source": [
        "# Creating Dataloaders\n",
        "trainloader = torch.utils.data.DataLoader(train_dataset, batch_size=64, shuffle=True)\n",
        "valloader = torch.utils.data.DataLoader(val_dataset, batch_size=64, shuffle=True)\n",
        "testloader = torch.utils.data.DataLoader(test_dataset, batch_size=64, shuffle=True)\n",
        "\n",
        "print(\"Number of Training Batches:\", len(trainloader), sep='\\t')\n",
        "print(\"Number of Validation Batches:\", len(valloader), sep='\\t')\n",
        "print(\"Number of Testing Batches:\", len(testloader), sep='\\t')"
      ],
      "execution_count": null,
      "outputs": [
        {
          "output_type": "stream",
          "text": [
            "Number of Training Batches:\t782\n",
            "Number of Validation Batches:\t157\n",
            "Number of Testing Batches:\t157\n"
          ],
          "name": "stdout"
        }
      ]
    },
    {
      "cell_type": "markdown",
      "metadata": {
        "id": "i7wz8deJX--T"
      },
      "source": [
        "### Important functions"
      ]
    },
    {
      "cell_type": "markdown",
      "metadata": {
        "id": "uAOkWQCHYBo6"
      },
      "source": [
        "Complete the function `train(net, dataloader, criterion, optimizer)` which will train a given network for 1 whole epoch using a given dataloader.\n",
        "\n",
        "This function will iterate through the dataloader, compute the network outputs, the loss, backpropogate to update the networks weights, and return the accuracy and average loss across the dataloader\n",
        "\n",
        "Ensure to setup the network in training mode using the .train() attribute built by pytorch."
      ]
    },
    {
      "cell_type": "code",
      "metadata": {
        "id": "Hn5dfDohL_Yr"
      },
      "source": [
        "def train(net, dataloader, criterion, optimizer):\n",
        "    net = net.train()\n",
        "    loss_tr, correct_count, n_samples = 0.0, 0.0, 0.0\n",
        "    \n",
        "    for i, data in enumerate(dataloader):\n",
        "        inputs, labels = data\n",
        "        inputs, labels = inputs.to(device), labels.to(device)\n",
        "\n",
        "        # zero the parameter gradients\n",
        "        optimizer.zero_grad()\n",
        "        \n",
        "        # forward + backward + optimize\n",
        "        outputs = net(inputs)\n",
        "        loss = criterion(outputs, labels)\n",
        "        loss.backward()\n",
        "        optimizer.step()\n",
        "        \n",
        "        # store / calculate performance metrics (acc, loss)\n",
        "        loss_tr += loss.item()\n",
        "        \n",
        "        for idx, j in enumerate(outputs):\n",
        "            if torch.argmax(j) == labels[idx]:\n",
        "                correct_count += 1\n",
        "            n_samples +=1\n",
        "        \n",
        "    acc = 100 * correct_count / n_samples\n",
        "    loss = loss_tr / n_samples\n",
        "\n",
        "    return acc, loss"
      ],
      "execution_count": null,
      "outputs": []
    },
    {
      "cell_type": "markdown",
      "metadata": {
        "id": "9w8IH2TgYtvA"
      },
      "source": [
        "Complete the function `evaluate(net, dataloader, criterion)` which will evauate a given network's performance across a given dataloader\n",
        "\n",
        "This function will iterate through the dataloader, compute the network outputs, the loss, and return the accuracy and average loss across the dataloader.\n",
        "\n",
        "Ensure to setup the network in validation mode using the .eval() attribute built by pytorch."
      ]
    },
    {
      "cell_type": "code",
      "metadata": {
        "id": "gmSATkk0MeyZ"
      },
      "source": [
        "def evaluate(net, dataloader, criterion):\n",
        "    net = net.eval()\n",
        "    loss_tr, correct_count, n_samples = 0.0, 0.0, 0.0\n",
        "    \n",
        "    for data in dataloader:\n",
        "        inputs, labels = data\n",
        "        inputs, labels = inputs.to(device), labels.to(device)\n",
        "\n",
        "        # compute network predictions\n",
        "        outputs = net(inputs)\n",
        "        loss = criterion(outputs, labels)\n",
        "        loss.backward()\n",
        "        optimizer.step()\n",
        "\n",
        "        # calculate performance metrics (acc, loss)\n",
        "        loss_tr += loss.item()\n",
        "        \n",
        "        for idx, j in enumerate(outputs):\n",
        "            if torch.argmax(j) == labels[idx]:\n",
        "                correct_count += 1\n",
        "            n_samples +=1\n",
        "\n",
        "    acc = 100 * correct_count / n_samples\n",
        "    loss = loss_tr / n_samples\n",
        "\n",
        "    return acc, loss"
      ],
      "execution_count": null,
      "outputs": []
    },
    {
      "cell_type": "markdown",
      "metadata": {
        "id": "Y_3JbqJdljba"
      },
      "source": [
        "Complete the function `count_parameters(model)` which should count the number of trainable parameters in a network."
      ]
    },
    {
      "cell_type": "code",
      "metadata": {
        "id": "Vfjqm98wliyq"
      },
      "source": [
        "def count_parameters(model):\n",
        "\n",
        "    count = sum(p.numel() for p in model.parameters() if p.requires_grad)\n",
        "\n",
        "    return count"
      ],
      "execution_count": null,
      "outputs": []
    },
    {
      "cell_type": "markdown",
      "metadata": {
        "id": "sHTlqg-ynxuw"
      },
      "source": [
        "The following function will be used to create plots of your performance metrics.\n"
      ]
    },
    {
      "cell_type": "code",
      "metadata": {
        "id": "GLrYdvYcnj_w"
      },
      "source": [
        "def plot_metrics(train_acc, train_loss, val_acc, val_loss):\n",
        "    plt.figure()\n",
        "    plt.plot(train_acc, 'g', label='Training Acc')\n",
        "    plt.plot(val_acc, 'b', label='Validation Acc')\n",
        "    plt.title('Accuracy')\n",
        "    plt.xlabel('Epoch')\n",
        "    plt.ylabel('Acc')\n",
        "    plt.legend()\n",
        "    plt.grid()\n",
        "    plt.show()\n",
        "\n",
        "    plt.figure()\n",
        "    plt.plot(train_loss, 'g', label='Training Loss')\n",
        "    plt.plot(val_loss, 'b', label='Validation Loss')\n",
        "    plt.title('Loss')\n",
        "    plt.xlabel('Epoch')\n",
        "    plt.ylabel('Loss')\n",
        "    plt.legend()\n",
        "    plt.grid()\n",
        "    plt.show()"
      ],
      "execution_count": null,
      "outputs": []
    },
    {
      "cell_type": "markdown",
      "metadata": {
        "id": "KvMsX7ULLiZi"
      },
      "source": [
        "## **Question 2:** Dense Networks\n",
        "\n",
        "**Note:**\n",
        "In solving the following sections, it is possible very likely that your results do not match ours exactly. This is due to the randomization in initilizations. What is important is that they are within the margins we set when defining the problem. "
      ]
    },
    {
      "cell_type": "markdown",
      "metadata": {
        "id": "0QN0isnZalFE"
      },
      "source": [
        "### Initial Performance"
      ]
    },
    {
      "cell_type": "markdown",
      "metadata": {
        "id": "yAWgb_xhZL9p"
      },
      "source": [
        "Recall from the discussion session, we provided you with the following fully connected (dense) network.\n"
      ]
    },
    {
      "cell_type": "code",
      "metadata": {
        "colab": {
          "base_uri": "https://localhost:8080/"
        },
        "id": "jDORbAZ3Lycf",
        "outputId": "0120858a-5150-4683-afa8-fa2353138c8c"
      },
      "source": [
        "class Dense(nn.Module):\n",
        "    # What does your model contain\n",
        "    def __init__(self):\n",
        "        super().__init__()\n",
        "        self.fc1 = nn.Linear(28*28, 64)\n",
        "        self.fc2 = nn.Linear(64, 64)\n",
        "        self.fc3 = nn.Linear(64, 64)\n",
        "        self.fc4 = nn.Linear(64, 10)    # 10 classes\n",
        "    \n",
        "    # This is how data moves when passed to your model\n",
        "    def forward(self, x):\n",
        "        x = x.view(-1, 28*28)   # Flatten\n",
        "        x = F.relu(self.fc1(x)) # Pass through layers\n",
        "        x = F.relu(self.fc2(x))\n",
        "        x = F.relu(self.fc3(x))\n",
        "        x = F.log_softmax(self.fc4(x), dim=1)   # soft max \n",
        "        \n",
        "        return x\n",
        "\n",
        "dense = Dense().to(device)\n",
        "\n",
        "print(\"Model Architecture\")\n",
        "print(dense)\n",
        "print(\"Number of parameters:\", count_parameters(dense))"
      ],
      "execution_count": null,
      "outputs": [
        {
          "output_type": "stream",
          "text": [
            "Model Architecture\n",
            "Dense(\n",
            "  (fc1): Linear(in_features=784, out_features=64, bias=True)\n",
            "  (fc2): Linear(in_features=64, out_features=64, bias=True)\n",
            "  (fc3): Linear(in_features=64, out_features=64, bias=True)\n",
            "  (fc4): Linear(in_features=64, out_features=10, bias=True)\n",
            ")\n",
            "Number of parameters: 59210\n"
          ],
          "name": "stdout"
        }
      ]
    },
    {
      "cell_type": "markdown",
      "metadata": {
        "id": "xmhDgBUgZo1-"
      },
      "source": [
        "Complete the following code to train the network above for 3 epochs.\n",
        "1. For your optimizer, use stochatic gradient descent with a learning rate of 0.001\n",
        "2. For your criterion (loss function) use Cross Entropy Loss (the one built by pytorch)\n",
        "\n",
        "**Note:** We are expecting bad performance here using the above mentioned parameters."
      ]
    },
    {
      "cell_type": "code",
      "metadata": {
        "id": "LSTiaq2BL1Qg",
        "colab": {
          "base_uri": "https://localhost:8080/"
        },
        "outputId": "2d9ae46c-bba9-475a-b446-38c99d343a4d"
      },
      "source": [
        "optimizer = optim.SGD(dense.parameters(), lr=0.001)\n",
        "criterion = nn.CrossEntropyLoss()\n",
        "\n",
        "train_acc, train_loss = [],[]\n",
        "val_acc, val_loss = [],[]\n",
        "\n",
        "print(\"Training on\", device)\n",
        "for epoch in range(3):\n",
        "    \n",
        "    acc_tr, loss_tr = train(dense, trainloader, criterion, optimizer)\n",
        "    train_loss.append(loss_tr)\n",
        "    train_acc.append(acc_tr)\n",
        "\n",
        "    acc_v, loss_v = evaluate(dense, valloader, criterion)\n",
        "    val_loss.append(loss_v)\n",
        "    val_acc.append(acc_v)\n",
        "\n",
        "    print('Epoch %2d' % (epoch + 1),\n",
        "            'Train Accuracy: %2.2f %%' % acc_tr,\n",
        "            'Val Accuracy: %2.2f %%' % acc_v,\n",
        "            sep='\\t\\t')"
      ],
      "execution_count": null,
      "outputs": [
        {
          "output_type": "stream",
          "text": [
            "Training on cuda:0\n",
            "Epoch  1\t\tTrain Accuracy: 13.55 %\t\tVal Accuracy: 14.23 %\n",
            "Epoch  2\t\tTrain Accuracy: 18.82 %\t\tVal Accuracy: 15.45 %\n",
            "Epoch  3\t\tTrain Accuracy: 13.12 %\t\tVal Accuracy: 11.87 %\n"
          ],
          "name": "stdout"
        }
      ]
    },
    {
      "cell_type": "markdown",
      "metadata": {
        "id": "GuulZlD3xGwD"
      },
      "source": [
        "Plot your performance using `plot_metrics` then evaluate your performance on the testloader / testset\n",
        "\n"
      ]
    },
    {
      "cell_type": "code",
      "metadata": {
        "id": "-p36C6a9atGE",
        "colab": {
          "base_uri": "https://localhost:8080/",
          "height": 590
        },
        "outputId": "61f233bf-f0f8-4143-81bf-803834a00c89"
      },
      "source": [
        "plot_metrics(train_acc, train_loss, val_acc, val_loss)\n",
        "\n",
        "acc_test, loss_test = evaluate(dense, testloader, criterion)\n",
        "print('Test Accuracy: %2.2f %%' % acc_test,\n",
        "        'Test Loss: %2.6f' % loss_test,\n",
        "        sep='\\t\\t')"
      ],
      "execution_count": null,
      "outputs": [
        {
          "output_type": "display_data",
          "data": {
            "image/png": "[encoded data removed]",
            "text/plain": [
              "<Figure size 432x288 with 1 Axes>"
            ]
          },
          "metadata": {
            "tags": [],
            "needs_background": "light"
          }
        },
        {
          "output_type": "display_data",
          "data": {
            "image/png": "[encoded data removed]",
            "text/plain": [
              "<Figure size 432x288 with 1 Axes>"
            ]
          },
          "metadata": {
            "tags": [],
            "needs_background": "light"
          }
        },
        {
          "output_type": "stream",
          "text": [
            "Test Accuracy: 11.56 %\t\tTest Loss: 0.035795\n"
          ],
          "name": "stdout"
        }
      ]
    },
    {
      "cell_type": "markdown",
      "metadata": {
        "id": "jtsiV2P7arfv"
      },
      "source": [
        "### Tuned Performance"
      ]
    },
    {
      "cell_type": "markdown",
      "metadata": {
        "id": "YPD5fh7TazWD"
      },
      "source": [
        "Vary any parameters you would like in the model's architecture (number of layers, hidden units, activation functions) or the training parameters (number of epochs, optimizer, learning rate, weight decay, momentum) to improve your initial performance. \n",
        "\n",
        "**Notes and requirements:** \n",
        "- The minimum acceptable test accuracy is 90%\n",
        "- If you run your network multiple times it is possible to get very different results with each run. This is due to the random initializations.\n",
        "- You are required to note down 5 significant changes you have experimented with and explain how these changes impacted your performance and your understanding as to why this is the case.\n",
        "- Keep your best performing model / training method and create the same plots and testing performance from above. "
      ]
    },
    {
      "cell_type": "code",
      "metadata": {
        "id": "XcembImnaxFl",
        "colab": {
          "base_uri": "https://localhost:8080/"
        },
        "outputId": "824f36f4-ad51-462f-e082-33f429c2c2f0"
      },
      "source": [
        "class TunedDense(nn.Module):\n",
        "    # What does your model contain\n",
        "    def __init__(self):\n",
        "        super().__init__()\n",
        "        self.fc1 = nn.Linear(28*28, 64)\n",
        "        self.fc2 = nn.Linear(64, 64)\n",
        "        self.fc3 = nn.Sigmoid()\n",
        "        self.fc4 = nn.Linear(64, 64)\n",
        "        self.fc5 = nn.Linear(64, 10)    # 10 classes\n",
        "    \n",
        "    # This is how data moves when passed to your model\n",
        "    def forward(self, x):\n",
        "        x = x.view(-1, 28*28)   # Flatten\n",
        "        x = self.fc1(x)   # Pass through layers\n",
        "        x = F.relu(self.fc2(x))\n",
        "        x = self.fc3(x)\n",
        "        x = F.relu(self.fc4(x))\n",
        "        x = F.log_softmax(self.fc5(x), dim=1)   # soft max\n",
        "        \n",
        "        return x\n",
        "\n",
        "tuned_dense = TunedDense().to(device)\n",
        "\n",
        "print(\"Model Architecture\")\n",
        "print(tuned_dense)\n",
        "print(\"Number of parameters:\", count_parameters(tuned_dense))"
      ],
      "execution_count": null,
      "outputs": [
        {
          "output_type": "stream",
          "text": [
            "Model Architecture\n",
            "TunedDense(\n",
            "  (fc1): Linear(in_features=784, out_features=64, bias=True)\n",
            "  (fc2): Linear(in_features=64, out_features=64, bias=True)\n",
            "  (fc3): Sigmoid()\n",
            "  (fc4): Linear(in_features=64, out_features=64, bias=True)\n",
            "  (fc5): Linear(in_features=64, out_features=10, bias=True)\n",
            ")\n",
            "Number of parameters: 59210\n"
          ],
          "name": "stdout"
        }
      ]
    },
    {
      "cell_type": "code",
      "metadata": {
        "id": "_Rsd082CbL0L",
        "colab": {
          "base_uri": "https://localhost:8080/"
        },
        "outputId": "42942356-2aec-4e0e-b9bb-2d09c2c06139"
      },
      "source": [
        "optimizer = optim.SGD(tuned_dense.parameters(), lr=0.002, momentum=0.2)\n",
        "criterion = nn.CrossEntropyLoss()\n",
        "\n",
        "train_acc, train_loss = [],[]\n",
        "val_acc, val_loss = [],[]\n",
        "\n",
        "print(\"Training on\", device)\n",
        "for epoch in range(12):\n",
        "    \n",
        "    acc_tr, loss_tr = train(tuned_dense, trainloader, criterion, optimizer)\n",
        "    train_loss.append(loss_tr)\n",
        "    train_acc.append(acc_tr)\n",
        "\n",
        "    acc_v, loss_v = evaluate(tuned_dense, valloader, criterion)\n",
        "    val_loss.append(loss_v)\n",
        "    val_acc.append(acc_v)\n",
        "\n",
        "    print('Epoch %2d' % (epoch + 1),\n",
        "            'Train Accuracy: %2.2f %%' % acc_tr,\n",
        "            'Val Accuracy: %2.2f' % acc_v,\n",
        "            sep='\\t\\t')"
      ],
      "execution_count": null,
      "outputs": [
        {
          "output_type": "stream",
          "text": [
            "Training on cuda:0\n",
            "Epoch  1\t\tTrain Accuracy: 11.22 %\t\tVal Accuracy: 11.64\n",
            "Epoch  2\t\tTrain Accuracy: 19.25 %\t\tVal Accuracy: 35.86\n",
            "Epoch  3\t\tTrain Accuracy: 57.19 %\t\tVal Accuracy: 64.31\n",
            "Epoch  4\t\tTrain Accuracy: 76.78 %\t\tVal Accuracy: 74.54\n",
            "Epoch  5\t\tTrain Accuracy: 83.96 %\t\tVal Accuracy: 85.36\n",
            "Epoch  6\t\tTrain Accuracy: 88.08 %\t\tVal Accuracy: 87.77\n",
            "Epoch  7\t\tTrain Accuracy: 89.55 %\t\tVal Accuracy: 90.41\n",
            "Epoch  8\t\tTrain Accuracy: 90.63 %\t\tVal Accuracy: 91.25\n",
            "Epoch  9\t\tTrain Accuracy: 91.08 %\t\tVal Accuracy: 92.09\n",
            "Epoch 10\t\tTrain Accuracy: 91.49 %\t\tVal Accuracy: 92.11\n",
            "Epoch 11\t\tTrain Accuracy: 91.70 %\t\tVal Accuracy: 92.86\n",
            "Epoch 12\t\tTrain Accuracy: 92.10 %\t\tVal Accuracy: 93.72\n"
          ],
          "name": "stdout"
        }
      ]
    },
    {
      "cell_type": "markdown",
      "metadata": {
        "id": "7Beo9PHUxUm1"
      },
      "source": [
        "Plot your peroformance using `plot_metrics` then evaluate your performance on the testloader / testset\n",
        "\n"
      ]
    },
    {
      "cell_type": "code",
      "metadata": {
        "colab": {
          "base_uri": "https://localhost:8080/",
          "height": 590
        },
        "id": "ZtQcDxKKL5xV",
        "outputId": "776bac07-5cca-4748-c65f-03dae7f75b30"
      },
      "source": [
        "plot_metrics(train_acc, train_loss, val_acc, val_loss)\n",
        "\n",
        "acc_test, loss_test = evaluate(tuned_dense, testloader, criterion)\n",
        "print('Test Accuracy: %2.2f %%' % acc_test,\n",
        "        'Test Loss: %2.6f' % loss_test,\n",
        "        sep='\\t\\t')"
      ],
      "execution_count": null,
      "outputs": [
        {
          "output_type": "display_data",
          "data": {
            "image/png": "[encoded data removed]",
            "text/plain": [
              "<Figure size 432x288 with 1 Axes>"
            ]
          },
          "metadata": {
            "tags": [],
            "needs_background": "light"
          }
        },
        {
          "output_type": "display_data",
          "data": {
            "image/png": "[encoded data removed]",
            "text/plain": [
              "<Figure size 432x288 with 1 Axes>"
            ]
          },
          "metadata": {
            "tags": [],
            "needs_background": "light"
          }
        },
        {
          "output_type": "stream",
          "text": [
            "Test Accuracy: 90.23 %\t\tTest Loss: 0.005195\n"
          ],
          "name": "stdout"
        }
      ]
    },
    {
      "cell_type": "markdown",
      "metadata": {
        "id": "SuaDzZtAqsh5"
      },
      "source": [
        "**Experiementations and explainations:**\n",
        "\n",
        "\n",
        "\n",
        "*   Changed learning rate to 0.002 - The learning rate affects the speed and accuracy of convergence in Stochastic Gradient Descent, as we saw with earlier homework assignments. Too small of a learning rate slows down convergence and too large of a learning rate will cause parameters to \"bounce\" back and forth. This proved to be a good learning rate value that led to successful convergence and accurate performance.\n",
        "*   Set momentum to 0.2 - This helps the network to find the gradients in the right direction quicker. This improves the performance because it leads to faster convergence.\n",
        "*   Changed the number of epochs to 12 - This gives the network more time to  learn on the training set. With each epoch, it is able to become more accurate. Therefore, the trained network is more accurate with the test set.\n",
        "*   Added another layer (a sigmoid layer) - Adding another layer created a deeper neural network. Each layer is able to learn more complex information on the original data. This results in better learning and higher accuracy.\n",
        "*   In the forward pass, I alternated between linear and ReLU layers. - This alternates linear and non-linear layers. This is better than having just all linear or all non-linear layers because a non-linear layer like ReLU that performs on the output from a linear layer is able to learn more complex data (like non-linear data or data with high dimensions). This is also more effective than having all linear layers because this would just result in a linear transformation. Therefore, alternating linear and non-linear layers resulted in higher accuracy because it allowed better learning on complex data.\n",
        "\n",
        "\n",
        "\n",
        "\n",
        "\n",
        "\n"
      ]
    },
    {
      "cell_type": "markdown",
      "metadata": {
        "id": "ZvJTJwPfiJuh"
      },
      "source": [
        "## **Question 3:** Convolutional  Neural Networks\n",
        "\n"
      ]
    },
    {
      "cell_type": "markdown",
      "metadata": {
        "id": "vGNq6kO9t5dO"
      },
      "source": [
        "Using pytorch, build a 2d convolutional neural network with the following architecture.\n",
        "\n",
        "1. 2D Convolution mapping the 1 x L x W input to 64 feature maps\n",
        "2. 2D Convolution mapping the 64 x L x W features to 32 feature maps\n",
        "\n",
        "3. Flatten the output\n",
        "3. A dense layer mapping the flattened output to 16 nodes\n",
        "4. A final dense layer mapping the 16 nodes to 10 classes\n",
        "\n",
        "Each convolutional layer should be followed by a relu activation function then a 2D maxpool of `kernel_size` 2 and `stride` of 2\n",
        "\n",
        "Each dense layer should be followed by a relu activation"
      ]
    },
    {
      "cell_type": "code",
      "metadata": {
        "id": "MEkXK7GWiqpB",
        "colab": {
          "base_uri": "https://localhost:8080/"
        },
        "outputId": "82a68c27-6559-4762-e526-15caea28cac6"
      },
      "source": [
        "class CNN(nn.Module):\n",
        "    def __init__(self):\n",
        "        super(CNN, self).__init__()\n",
        "        self.conv1 = nn.Conv2d(1, 64, kernel_size=3)\n",
        "        self.conv2 = nn.Conv2d(64, 32, kernel_size=3)\n",
        "        self.fc1 = nn.Linear(800, 16)   # flattened output to 16 nodes\n",
        "        self.fc2 = nn.Linear(16, 16)\n",
        "        self.fc3 = nn.Linear(16, 10)    # 10 classes\n",
        "\n",
        "    def forward(self, x):\n",
        "        x = self.conv1(x)\n",
        "        x = F.relu(x)\n",
        "        x = F.max_pool2d(x, kernel_size=2, stride=2)\n",
        "        x = self.conv2(x)\n",
        "        x = F.relu(x)\n",
        "        x = F.max_pool2d(x, kernel_size=2, stride=2)\n",
        "        x = torch.flatten(x, 1)\n",
        "        # print(x.shape)\n",
        "        x = self.fc1(x)\n",
        "        x = F.relu(x)\n",
        "        x = self.fc2(x)\n",
        "        x = F.relu(x)\n",
        "        x = self.fc3(x)\n",
        "        x = F.log_softmax(x, dim=1)\n",
        "        \n",
        "        return x\n",
        "\n",
        "cnn = CNN().to(device)\n",
        "\n",
        "print(\"Model Architecture\")\n",
        "print(cnn)\n",
        "print(\"Number of parameters:\", count_parameters(cnn))"
      ],
      "execution_count": null,
      "outputs": [
        {
          "output_type": "stream",
          "text": [
            "Model Architecture\n",
            "CNN(\n",
            "  (conv1): Conv2d(1, 64, kernel_size=(3, 3), stride=(1, 1))\n",
            "  (conv2): Conv2d(64, 32, kernel_size=(3, 3), stride=(1, 1))\n",
            "  (fc1): Linear(in_features=800, out_features=16, bias=True)\n",
            "  (fc2): Linear(in_features=16, out_features=16, bias=True)\n",
            "  (fc3): Linear(in_features=16, out_features=10, bias=True)\n",
            ")\n",
            "Number of parameters: 32362\n"
          ],
          "name": "stdout"
        }
      ]
    },
    {
      "cell_type": "markdown",
      "metadata": {
        "id": "NYYFhhQku67Z"
      },
      "source": [
        "Complete the following code to train the network above for 10 epochs.\n",
        "1. For your optimizer, use stochatic gradient descent (you may change this later if you would like)\n",
        "\n",
        "2. For your criterion (loss function) use Cross Entropy Loss (the one built by pytorch)\n",
        "\n",
        "**Notes and requirements:** \n",
        "- The minimum acceptable test accuracy is 90%\n",
        "- If you run your network multiple times it is possible to get very different results with each run. This is due to the random initializations.\n",
        "- You are welcome to experiment with the CNN architecture and anything else you want. You are required to experiment with different values for `learning_rate`, `momentum`, and `weight_decay` in your optimizer to improve your performance.\n",
        "- Note down your experimentations and explain how these changes impacted your performance and your understanding as to why this is the case.\n",
        "- Keep your best performing model / training method and create the same plots and testing performance as before."
      ]
    },
    {
      "cell_type": "code",
      "metadata": {
        "id": "xSu0ahzmi5kX",
        "colab": {
          "base_uri": "https://localhost:8080/"
        },
        "outputId": "ec7cf89d-8a10-48e3-868f-4dc035350648"
      },
      "source": [
        "optimizer = optim.SGD(cnn.parameters(), lr=0.0015, momentum=0.2, weight_decay=0.2)\n",
        "criterion = nn.CrossEntropyLoss()\n",
        "\n",
        "train_acc, train_loss = [], []\n",
        "val_acc, val_loss = [], []\n",
        "\n",
        "print(\"Training on\", device)\n",
        "for epoch in range(10):\n",
        "    \n",
        "    acc_tr, loss_tr = train(cnn, trainloader, criterion, optimizer)\n",
        "    train_loss.append(loss_tr)\n",
        "    train_acc.append(acc_tr)\n",
        "\n",
        "    acc_v, loss_v = evaluate(cnn, valloader, criterion)\n",
        "    val_loss.append(loss_v)\n",
        "    val_acc.append(acc_v)\n",
        "\n",
        "    print('Epoch %2d' % (epoch + 1),\n",
        "            'Train Accuracy: %2.2f %%' % acc_tr,\n",
        "            'Val Accuracy: %2.2f' % acc_v,\n",
        "            sep='\\t\\t')"
      ],
      "execution_count": null,
      "outputs": [
        {
          "output_type": "stream",
          "text": [
            "Training on cuda:0\n",
            "Epoch  1\t\tTrain Accuracy: 9.83 %\t\tVal Accuracy: 13.00\n",
            "Epoch  2\t\tTrain Accuracy: 25.39 %\t\tVal Accuracy: 35.34\n",
            "Epoch  3\t\tTrain Accuracy: 54.40 %\t\tVal Accuracy: 60.69\n",
            "Epoch  4\t\tTrain Accuracy: 68.75 %\t\tVal Accuracy: 68.42\n",
            "Epoch  5\t\tTrain Accuracy: 82.41 %\t\tVal Accuracy: 82.34\n",
            "Epoch  6\t\tTrain Accuracy: 89.55 %\t\tVal Accuracy: 87.63\n",
            "Epoch  7\t\tTrain Accuracy: 92.16 %\t\tVal Accuracy: 89.80\n",
            "Epoch  8\t\tTrain Accuracy: 93.20 %\t\tVal Accuracy: 87.48\n",
            "Epoch  9\t\tTrain Accuracy: 83.46 %\t\tVal Accuracy: 88.03\n",
            "Epoch 10\t\tTrain Accuracy: 92.04 %\t\tVal Accuracy: 91.29\n"
          ],
          "name": "stdout"
        }
      ]
    },
    {
      "cell_type": "markdown",
      "metadata": {
        "id": "7OqvBcilxaKG"
      },
      "source": [
        "Plot your peroformance using `plot_metrics` then evaluate your performance on the testloader / testset"
      ]
    },
    {
      "cell_type": "code",
      "metadata": {
        "id": "j6csYiqqjjMi",
        "colab": {
          "base_uri": "https://localhost:8080/",
          "height": 590
        },
        "outputId": "a1f2324c-0f53-44c6-aded-4ef9e30b9b30"
      },
      "source": [
        "plot_metrics(train_acc, train_loss, val_acc, val_loss)\n",
        "\n",
        "acc_test, loss_test = evaluate(cnn, testloader, criterion)\n",
        "print('Test Accuracy: %2.2f %%' % acc_test,\n",
        "        'Test Loss: %2.6f' % loss_test,\n",
        "        sep='\\t\\t')"
      ],
      "execution_count": null,
      "outputs": [
        {
          "output_type": "display_data",
          "data": {
            "image/png": "[encoded data removed]",
            "text/plain": [
              "<Figure size 432x288 with 1 Axes>"
            ]
          },
          "metadata": {
            "tags": [],
            "needs_background": "light"
          }
        },
        {
          "output_type": "display_data",
          "data": {
            "image/png": "[encoded data removed]",
            "text/plain": [
              "<Figure size 432x288 with 1 Axes>"
            ]
          },
          "metadata": {
            "tags": [],
            "needs_background": "light"
          }
        },
        {
          "output_type": "stream",
          "text": [
            "Test Accuracy: 91.50 %\t\tTest Loss: 0.004733\n"
          ],
          "name": "stdout"
        }
      ]
    },
    {
      "cell_type": "markdown",
      "metadata": {
        "id": "vLuI_jUTv1Cf"
      },
      "source": [
        "**Experiementations and explainations:**\n",
        "\n",
        "After experimenting, I set the learning rate to 0.0015, the momentum to 0.2, and the weight decay to 0.2. I found that accuracy decreased when I increased the learning rate to 0.002 or 0.003. I varied momentum between 0.08 and 0.4 and found 0.2 to be the most optimal. I also varied weight decay between 0.1 and 0.5 and found 0.2 to be the most optimal. The learning rate determines how much the weights are updated, momentum affects the speed of convergence, and the weight decay provides an L2 penalty, so these parameters for the optimizer needed to be properly tuned to achieve a higher accuracy.\n",
        "\n",
        "I also experimented with adding another dense layer in the CNN. I added a softmax layer, which is non-linear and rescales the values between 0 and 1. Since softmaxes are usually used in the ouput layer to classify data into multiple categories, this was useful for our network since it is performing on MNIST data.\n"
      ]
    },
    {
      "cell_type": "markdown",
      "metadata": {
        "id": "H2qU-xmXrCod"
      },
      "source": [
        "## **Question 4:** Compare your results\n"
      ]
    },
    {
      "cell_type": "markdown",
      "metadata": {
        "id": "5FcfTx67rI3u"
      },
      "source": [
        "Compare the cnn and dense networks your have built in terms of performance, runtime, accuracy, and any other factors you think are note worthy."
      ]
    },
    {
      "cell_type": "markdown",
      "metadata": {
        "id": "_re4mYVIrb_e"
      },
      "source": [
        "**Answer:**\n",
        "\n",
        "Comparing the CNN to the dense network from problem 3, the CNN was able to achieve a higher accuracy with fewer parameters. The CNN had 32362 parameters while the TunedDense network had 59210 parameters. My CNN also ran for less epochs than my TunedDense network did. Both networks alternated between linear and non-linear (ReLU) layers, but the CNN also had convolutional layers. In CNNs, the convolutional layers act as image filters and can capture spatial information (they are invariant to translation). The convolutional layers also reduce the complexity, which has a positive impact on performance and runtime. Furthermore, CNNs work better than dense networks when training on image data. Since we are using MNIST data, the CNN would perform better.\n"
      ]
    }
  ]
}