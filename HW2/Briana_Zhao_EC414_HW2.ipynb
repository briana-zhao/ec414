{
  "nbformat": 4,
  "nbformat_minor": 0,
  "metadata": {
    "colab": {
      "name": "EC414_HW2.ipynb",
      "provenance": [],
      "collapsed_sections": []
    },
    "kernelspec": {
      "name": "python3",
      "display_name": "Python 3"
    }
  },
  "cells": [
    {
      "cell_type": "markdown",
      "metadata": {
        "id": "CDnayQkt-Vw5"
      },
      "source": [
        "# Homework 2: Linear Regression\r\n",
        "by Yousif Khaireddin and Sadie Allen\r\n",
        "\r\n",
        "**Due date**: February 17, Wednesday by 11:59pm\r\n"
      ]
    },
    {
      "cell_type": "markdown",
      "metadata": {
        "id": "DbDOBnxLIf4N"
      },
      "source": [
        "## **Question 1:** Ridge regression derivation"
      ]
    },
    {
      "cell_type": "markdown",
      "metadata": {
        "id": "74JIPHp5JiGb"
      },
      "source": [
        "**Throughout the following, please adhere to the following definitions**\r\n",
        "\r\n",
        "$\r\n",
        "n = number\\ of\\ samples \\\\\r\n",
        "d = number\\ of\\ features \\\\\r\n",
        "$\r\n",
        "\r\n",
        "$\r\n",
        "X = samples \\in \\mathcal{R}^{n x d}\\\\\r\n",
        "y = labels \\in \\mathcal{R}^n \\\\\r\n",
        "w = weight\\ matrix \\in \\mathcal{R}^d\r\n",
        "$"
      ]
    },
    {
      "cell_type": "markdown",
      "metadata": {
        "id": "-IzsMMniH2z4"
      },
      "source": [
        "In class, we have derived the closed form solution for OLS Regression. \r\n",
        "\r\n",
        "$\r\n",
        "loss = \\sum_{i=0}^{n}||y_i - \\sum_{j=0}^{d}x_{ij}w_j||^2 = (\\textbf{y} - \\textbf{Xw})^T (\\textbf{y} - \\textbf{Xw})\r\n",
        "$\r\n",
        "<br>\r\n",
        "\r\n",
        "\r\n",
        "The optimal value for the parameter $\\textbf{w}$ is given by\r\n",
        "\r\n",
        "$\r\n",
        "\\textbf{w*} = (\\textbf{X}^T \\textbf{X})^{-1}\\ \\textbf{X}^T \\textbf{y} \\\\\r\n",
        "$\r\n",
        "\r\n",
        "To control the variance of the parameters and avoid them growing to infinity and help with overfitting, ridge regression tries to regularize the loss fuction using w, shown below:\r\n",
        "<br><br>\r\n",
        "\r\n",
        "\r\n",
        "$\r\n",
        "loss = (\\textbf{y} - \\textbf{Xw})^T (\\textbf{y} - \\textbf{Xw} ) + \\lambda ||\\textbf{w}||^2_2\r\n",
        "$\r\n",
        "<br><br>\r\n",
        "\r\n",
        "\r\n",
        "The degree to which this regularization impacts the loss function is controlled by the $\\lambda$ parameter. This is a hyper-parameter which must be tuned using a validation set.\r\n",
        "\r\n",
        "<br>\r\n",
        "\r\n",
        "\r\n",
        "Derive the closed form solution of ridge regression using the same workflow used in class to derive OLS.\r\n",
        "\r\n",
        "**Hint:** You are trying to minimize the loss w.r.t. to $w$   \r\n"
      ]
    },
    {
      "cell_type": "markdown",
      "metadata": {
        "id": "20PBq4H_Anp9"
      },
      "source": [
        "**Answer:**\r\n"
      ]
    },
    {
      "cell_type": "markdown",
      "metadata": {
        "id": "wv8p6dTD1Xtr"
      },
      "source": [
        "## **Question 2:**  Relationship between Lasso Regression and Maximum a posteriori estimation"
      ]
    },
    {
      "cell_type": "markdown",
      "metadata": {
        "id": "GpDPgHMK1e3c"
      },
      "source": [
        "As we have previously discussed in class, in linear regression, we can consider $y$ to be the product of the weight vector with the sample with some added noise factor. \r\n",
        "\r\n",
        "$ y = w^Tx + \\mathcal{N} (0, \\sigma^2) $\r\n",
        "\r\n",
        "So, each $y_i$ is distributed according to a gaussian distribution goverend by the noise, and mean-shifted by $w^Tx$\r\n",
        "\r\n",
        "$y \\sim \\mathcal{N} (w^Tx, \\sigma^2)$\r\n",
        "\r\n",
        "$p(y|x, w) = \\frac{1}{\\sigma \\sqrt{2 \\pi}} e^{\\sum_{i=1}^{n} \\frac{-(y_i - x_i^Tw)^2}{2\\sigma^2}} $\r\n",
        "<br><br>\r\n",
        "\r\n",
        "\r\n",
        "Additionally, assume the prior of the model is Laplacian whose coefficients are iid with zero mean and scale parameter $b$.\r\n",
        "\r\n",
        "$p(w|\\mu, b) = \\frac{1}{2b}e^{\\frac{-||w-\\mu||_1}{b}}$\r\n",
        "<br>\r\n",
        "\r\n",
        "\r\n",
        "Show that the formula for LASSO linear regression can be derived via MAP estimation with a Laplace prior.\r\n"
      ]
    },
    {
      "cell_type": "markdown",
      "metadata": {
        "id": "kDqtxuABUwXn"
      },
      "source": [
        "**Answer** \r\n"
      ]
    },
    {
      "cell_type": "markdown",
      "metadata": {
        "id": "TG5yndLcyOTN"
      },
      "source": [
        "## **Question 3:** Linear Regression Implementation (OLS, Ridge)"
      ]
    },
    {
      "cell_type": "markdown",
      "metadata": {
        "id": "iZz-JWJlyY3d"
      },
      "source": [
        "Throughout this question we will be concerned with implementing Linear regression and Ridge regression and verifying our results against sklearn's inbuilt functions. \r\n",
        "\r\n",
        "To do this, we will be using a very simple and small dataset containing 50 samples and only 1 feature.  \r\n",
        "\r\n",
        "This will enable us to plot and visualize everything along the way. \r\n"
      ]
    },
    {
      "cell_type": "markdown",
      "metadata": {
        "id": "zWXoz_MJi6X5"
      },
      "source": [
        "### Data processing and Visualization"
      ]
    },
    {
      "cell_type": "code",
      "metadata": {
        "colab": {
          "base_uri": "https://localhost:8080/"
        },
        "id": "ms6c0qWHWal5",
        "outputId": "d5034ffd-13e5-4d5d-973f-d6b90e01f67b"
      },
      "source": [
        "import numpy as np\r\n",
        "from sklearn.datasets import make_regression\r\n",
        "\r\n",
        "X, y, coefficients = make_regression(\r\n",
        "    n_samples=50,\r\n",
        "    n_features=1,\r\n",
        "    n_informative=1,\r\n",
        "    n_targets=1,\r\n",
        "    noise=5,\r\n",
        "    coef=True,\r\n",
        "    random_state=10\r\n",
        ")\r\n",
        "\r\n",
        "print(\"X shape:\", X.shape, sep='\\t')\r\n",
        "print(\"y shape:\", y.shape, sep='\\t')"
      ],
      "execution_count": 1,
      "outputs": [
        {
          "output_type": "stream",
          "text": [
            "X shape:\t(50, 1)\n",
            "y shape:\t(50,)\n"
          ],
          "name": "stdout"
        }
      ]
    },
    {
      "cell_type": "markdown",
      "metadata": {
        "id": "xmkYehMiaPlV"
      },
      "source": [
        "Create a scatter plot of all datapoints to see our data"
      ]
    },
    {
      "cell_type": "code",
      "metadata": {
        "id": "Mam6xKvXZ6FP",
        "colab": {
          "base_uri": "https://localhost:8080/",
          "height": 350
        },
        "outputId": "1bf85aa6-3b98-4c36-b086-636e9c59cb81"
      },
      "source": [
        "from matplotlib import pyplot as plt\r\n",
        "\r\n",
        "# -- Code Required --\r\n",
        "plt.figure(figsize=(15, 5))\r\n",
        "\r\n",
        "plt.scatter(X,y)\r\n",
        "plt.title(\"Our Data\")\r\n",
        "plt.xlabel(\"X\")\r\n",
        "plt.ylabel(\"y\")\r\n",
        "plt.show()"
      ],
      "execution_count": 2,
      "outputs": [
        {
          "output_type": "display_data",
          "data": {
            "image/png": "[encoded data removed]",
            "text/plain": [
              "<Figure size 1080x360 with 1 Axes>"
            ]
          },
          "metadata": {
            "tags": [],
            "needs_background": "light"
          }
        }
      ]
    },
    {
      "cell_type": "markdown",
      "metadata": {
        "id": "Q59lV2qy1Hnu"
      },
      "source": [
        "Attach a vector of ones onto **X** to account for the bias value"
      ]
    },
    {
      "cell_type": "code",
      "metadata": {
        "id": "1FZ5WfvM1HQI",
        "colab": {
          "base_uri": "https://localhost:8080/"
        },
        "outputId": "242947fd-a1af-4696-8cd5-4e95b4e3f56c"
      },
      "source": [
        "ones = np.ones(shape = (50,1))\r\n",
        "X = np.hstack((X,ones))\r\n",
        "\r\n",
        "\r\n",
        "print(\"X shape:\", X.shape, sep='\\t')\r\n",
        "print(\"y shape:\", y.shape, sep='\\t')\r\n"
      ],
      "execution_count": 3,
      "outputs": [
        {
          "output_type": "stream",
          "text": [
            "X shape:\t(50, 2)\n",
            "y shape:\t(50,)\n"
          ],
          "name": "stdout"
        }
      ]
    },
    {
      "cell_type": "markdown",
      "metadata": {
        "id": "o0iCfv7A1V4u"
      },
      "source": [
        "Using **train_test_split** from sklearn, seperate the data using a 60, 20, 20 split.\r\n",
        "\r\n",
        "* Make sure to suffle the dataset using a **random_state** of 42\r\n",
        "\r\n",
        "**Hint:** \r\n",
        "\r\n",
        "* This can be done easily with 2 calls to **train_test_split**. \r\n",
        "\r\n",
        "* The first call will split the data into train/test, and the second will split the train data into train/val\r\n",
        "\r\n",
        "**Note:** \r\n",
        "\r\n",
        "Though we will have no use for the validation set in this question since we are merely concerned with creating all the required implementations at this time, it will be vital in the next question."
      ]
    },
    {
      "cell_type": "code",
      "metadata": {
        "id": "zDIxO-VZz5-j",
        "colab": {
          "base_uri": "https://localhost:8080/"
        },
        "outputId": "f8e3c671-f139-4b84-ff93-9724b30c0fbb"
      },
      "source": [
        "from sklearn.model_selection import train_test_split\r\n",
        "\r\n",
        "xtrain, xtest, ytrain, ytest = train_test_split(X, y, test_size = 0.2, random_state = 42)\r\n",
        "xtrain, xval, ytrain, yval = train_test_split(xtrain, ytrain, test_size = 0.25, random_state = 42)\r\n",
        "\r\n",
        "print(\"xtrain shape:\", xtrain.shape, sep='\\t')\r\n",
        "print(\"xval shape:\", xval.shape, sep='\\t')\r\n",
        "print(\"xtest shape:\", xtest.shape, '\\n', sep='\\t')\r\n",
        "\r\n",
        "print(\"ytrain shape:\", ytrain.shape, sep='\\t')\r\n",
        "print(\"yval shape:\", yval.shape, sep='\\t')\r\n",
        "print(\"ytest shape:\", ytest.shape, sep='\\t')"
      ],
      "execution_count": 4,
      "outputs": [
        {
          "output_type": "stream",
          "text": [
            "xtrain shape:\t(30, 2)\n",
            "xval shape:\t(10, 2)\n",
            "xtest shape:\t(10, 2)\t\n",
            "\n",
            "ytrain shape:\t(30,)\n",
            "yval shape:\t(10,)\n",
            "ytest shape:\t(10,)\n"
          ],
          "name": "stdout"
        }
      ]
    },
    {
      "cell_type": "markdown",
      "metadata": {
        "id": "Zlm5k9gDf4bh"
      },
      "source": [
        "### OLS"
      ]
    },
    {
      "cell_type": "markdown",
      "metadata": {
        "id": "_vN_svN5hr1f"
      },
      "source": [
        "Define a function *get_loss* that takes the inputs X, y, and W and calculates the loss required (MSE). Its skeleton is shown below.\r\n",
        "\r\n",
        "For full credit, create a vectorized implementation (no for loops)."
      ]
    },
    {
      "cell_type": "code",
      "metadata": {
        "id": "UF41wAsRhrOG"
      },
      "source": [
        "def get_loss(X, y, W):\r\n",
        "    X = np.transpose(X)   #makes X 2xn\r\n",
        "    y_hat = np.dot(np.transpose(W),X)\r\n",
        "    y_difference = y - y_hat\r\n",
        "    loss = np.square(y_difference).mean()\r\n",
        "    return loss"
      ],
      "execution_count": 8,
      "outputs": []
    },
    {
      "cell_type": "markdown",
      "metadata": {
        "id": "W5CtrKUday0Q"
      },
      "source": [
        "Using the derivation done in class, implement the closed form solution for ordinary least squares.\r\n",
        "\r\n",
        "Do this by defining a function *OLS* that takes the inputs $\\mathbf{X}$ and $\\mathbf{y}$ and returns $\\mathbf{w}$. Its skeleton is shown below.\r\n",
        "\r\n",
        "For full credit, do not use the inverse function\r\n",
        "\r\n",
        "**Hint:** you may want to look into *numpy.linalg.solve* "
      ]
    },
    {
      "cell_type": "code",
      "metadata": {
        "id": "7UBVsYH_0xWl",
        "colab": {
          "base_uri": "https://localhost:8080/"
        },
        "outputId": "90bdf01d-d2a0-45c3-c023-207e27d06bbd"
      },
      "source": [
        "def OLS(X, y):\r\n",
        "    X_t = np.transpose(X)\r\n",
        "    a = np.dot(X_t, X)\r\n",
        "    b = np.dot(X_t, y)\r\n",
        "    W = np.linalg.solve(a, b)\r\n",
        "\r\n",
        "    return W\r\n",
        "\r\n",
        "W_ols = OLS(xtrain, ytrain)\r\n",
        "print(\"W_ols:\", W_ols)"
      ],
      "execution_count": 5,
      "outputs": [
        {
          "output_type": "stream",
          "text": [
            "W_ols: [ 1.01054998e+02 -8.83448668e-02]\n"
          ],
          "name": "stdout"
        }
      ]
    },
    {
      "cell_type": "markdown",
      "metadata": {
        "id": "PVamkAfJa932"
      },
      "source": [
        "Create the following plots:\r\n",
        "* a scatter plot of the training data overlayed by the OLS solution\r\n",
        "* a scatter plot of the testing data overlayed by the OLS solution "
      ]
    },
    {
      "cell_type": "code",
      "metadata": {
        "id": "fW7QTvQQ1-T0",
        "colab": {
          "base_uri": "https://localhost:8080/",
          "height": 683
        },
        "collapsed": true,
        "outputId": "f4192d41-a122-46c3-ed41-62bf8c724a6f"
      },
      "source": [
        "from matplotlib import pyplot as plt\r\n",
        "\r\n",
        "# -- Code Required --\r\n",
        "plt.figure(figsize=(10, 5))\r\n",
        "\r\n",
        "plt.scatter(xtrain[:,0], ytrain)      \r\n",
        "plt.plot(xtrain, W_ols * xtrain)\r\n",
        "plt.title(\"Training Data\")\r\n",
        "plt.xlabel(\"xtrain\")\r\n",
        "plt.ylabel(\"ytrain\")\r\n",
        "plt.show()\r\n",
        "\r\n",
        "\r\n",
        "plt.figure(figsize=(10, 5))\r\n",
        "\r\n",
        "plt.scatter(xtest[:,0], ytest)      \r\n",
        "plt.plot(xtest, W_ols * xtest)\r\n",
        "plt.title(\"Test Data\")\r\n",
        "plt.xlabel(\"xtest\")\r\n",
        "plt.ylabel(\"ytest\")\r\n",
        "plt.show()\r\n",
        "\r\n"
      ],
      "execution_count": 6,
      "outputs": [
        {
          "output_type": "display_data",
          "data": {
            "image/png": "[encoded data removed]",
            "text/plain": [
              "<Figure size 720x360 with 1 Axes>"
            ]
          },
          "metadata": {
            "tags": [],
            "needs_background": "light"
          }
        },
        {
          "output_type": "display_data",
          "data": {
            "image/png": "[encoded data removed]",
            "text/plain": [
              "<Figure size 720x360 with 1 Axes>"
            ]
          },
          "metadata": {
            "tags": [],
            "needs_background": "light"
          }
        }
      ]
    },
    {
      "cell_type": "markdown",
      "metadata": {
        "id": "3Cp9D7DSbnbF"
      },
      "source": [
        "Compute training loss and testing loss using the *get_loss* function you have previously defined "
      ]
    },
    {
      "cell_type": "code",
      "metadata": {
        "id": "B0iNW6w93nfj",
        "colab": {
          "base_uri": "https://localhost:8080/"
        },
        "outputId": "2233dadd-44dc-406a-b9da-269e435b884c"
      },
      "source": [
        "loss_train = get_loss(xtrain, ytrain, W_ols)\r\n",
        "loss_test = get_loss(xtest, ytest, W_ols)\r\n",
        "\r\n",
        "print(\"Training Loss:\", loss_train)\r\n",
        "print(\"Testing Loss:\", loss_test)"
      ],
      "execution_count": 9,
      "outputs": [
        {
          "output_type": "stream",
          "text": [
            "Training Loss: 31.058137679214592\n",
            "Testing Loss: 42.851876889248445\n"
          ],
          "name": "stdout"
        }
      ]
    },
    {
      "cell_type": "markdown",
      "metadata": {
        "id": "CBhLpnDhgAjf"
      },
      "source": [
        "### Ridge"
      ]
    },
    {
      "cell_type": "markdown",
      "metadata": {
        "id": "H00sDTfPbwDq"
      },
      "source": [
        "Define a function *get_ridge_loss* that takes the inputs X, y, W, and $\\lambda$ and calculates the loss required (MSE with L2 regularization). \r\n",
        "\r\n",
        "Its skeleton is shown below.\r\n",
        "\r\n",
        "For full credit, create a vectorized implementation (no for loops)."
      ]
    },
    {
      "cell_type": "code",
      "metadata": {
        "id": "AelQiKx0chaT"
      },
      "source": [
        "def get_ridge_loss(X, y, W, lmda):\r\n",
        "    X = np.transpose(X)\r\n",
        "    y_hat = np.dot(np.transpose(W),X)\r\n",
        "    y_difference = y - y_hat\r\n",
        "    MSE = np.square(y_difference).mean()\r\n",
        "    regularizer = lmda * np.dot(np.transpose(W), W)\r\n",
        "    loss = MSE + regularizer\r\n",
        "    return loss"
      ],
      "execution_count": 10,
      "outputs": []
    },
    {
      "cell_type": "markdown",
      "metadata": {
        "id": "_FXBpy1idcp5"
      },
      "source": [
        "Using your derivation from question 1, implement the closed form solution for ridge regression.\r\n",
        "\r\n",
        "Do this by defining a function *ridge* that takes the inputs $\\mathbf{X}$, $\\mathbf{y}$, and $\\lambda$ and returns $\\mathbf{w}$. Its skeleton is shown below.\r\n",
        "\r\n",
        "For full credit, do not use the inverse function\r\n",
        "\r\n",
        "For now, we will set $\\lambda = 0.1$. \r\n",
        "This performance will not be optimal, but we will worry about this later"
      ]
    },
    {
      "cell_type": "code",
      "metadata": {
        "id": "CQPFvmv9cuv2",
        "colab": {
          "base_uri": "https://localhost:8080/"
        },
        "outputId": "a3bb27d3-2e4f-42cb-9c9b-b3cd5f0ea760"
      },
      "source": [
        "def ridge(X, y, lmda):\r\n",
        "    rows =  len(X[0])\r\n",
        "    X_t = np.transpose(X)   #transposed X is nx2\r\n",
        "    a = np.dot(X_t, X) + lmda * np.identity(rows)\r\n",
        "    b = np.dot (X_t, y)\r\n",
        "    W = np.linalg.solve(a, b)\r\n",
        "\r\n",
        "    return W\r\n",
        "\r\n",
        "lmda = 0.1\r\n",
        "W_ridge = ridge(xtrain, ytrain, lmda)\r\n",
        "print(\"W_ridge:\", W_ridge)"
      ],
      "execution_count": 11,
      "outputs": [
        {
          "output_type": "stream",
          "text": [
            "W_ridge: [ 1.00606862e+02 -2.34634212e-02]\n"
          ],
          "name": "stdout"
        }
      ]
    },
    {
      "cell_type": "markdown",
      "metadata": {
        "id": "6oyzimeBZTyW"
      },
      "source": [
        "Create the following plots:\r\n",
        "* a scatter plot of the training data overlayed by the ridge solution\r\n",
        "* a scatter plot of the testing data overlayed by the ridge solution "
      ]
    },
    {
      "cell_type": "code",
      "metadata": {
        "id": "qtrPo_25ZQoP",
        "colab": {
          "base_uri": "https://localhost:8080/",
          "height": 683
        },
        "collapsed": true,
        "outputId": "3537faf8-a493-4209-ca2a-bcdf187a9c0c"
      },
      "source": [
        "from matplotlib import pyplot as plt\r\n",
        "\r\n",
        "# -- Code Required --\r\n",
        "plt.figure(figsize=(10, 5))\r\n",
        "\r\n",
        "plt.scatter(xtrain[:,0], ytrain)      \r\n",
        "plt.plot(xtrain, W_ridge * xtrain)\r\n",
        "plt.title(\"Training Data\")\r\n",
        "plt.xlabel(\"xtrain\")\r\n",
        "plt.ylabel(\"ytrain\")\r\n",
        "plt.show()\r\n",
        "\r\n",
        "\r\n",
        "plt.figure(figsize=(10, 5))\r\n",
        "\r\n",
        "plt.scatter(xtest[:,0], ytest)      \r\n",
        "plt.plot(xtest, W_ridge * xtest)\r\n",
        "plt.title(\"Test Data\")\r\n",
        "plt.xlabel(\"xtest\")\r\n",
        "plt.ylabel(\"ytest\")\r\n",
        "plt.show()\r\n"
      ],
      "execution_count": 12,
      "outputs": [
        {
          "output_type": "display_data",
          "data": {
            "image/png": "[encoded data removed]",
            "text/plain": [
              "<Figure size 720x360 with 1 Axes>"
            ]
          },
          "metadata": {
            "tags": [],
            "needs_background": "light"
          }
        },
        {
          "output_type": "display_data",
          "data": {
            "image/png": "[encoded data removed]",
            "text/plain": [
              "<Figure size 720x360 with 1 Axes>"
            ]
          },
          "metadata": {
            "tags": [],
            "needs_background": "light"
          }
        }
      ]
    },
    {
      "cell_type": "markdown",
      "metadata": {
        "id": "aQ_SS8CqbE6J"
      },
      "source": [
        "Compute training loss and testing loss using the *get_ridge_loss* function you have previously defined "
      ]
    },
    {
      "cell_type": "code",
      "metadata": {
        "id": "LbBFX7qgaUG7",
        "colab": {
          "base_uri": "https://localhost:8080/"
        },
        "outputId": "3ab5e10c-3568-44c3-ba91-6288e08c97e2"
      },
      "source": [
        "loss_train = get_ridge_loss(xtrain,ytrain,W_ridge,lmda)\r\n",
        "loss_test = get_ridge_loss(xtest,ytest,W_ridge,lmda)\r\n",
        "\r\n",
        "print(\"Training Loss:\", loss_train)\r\n",
        "print(\"Testing Loss:\", loss_test)"
      ],
      "execution_count": 13,
      "outputs": [
        {
          "output_type": "stream",
          "text": [
            "Training Loss: 1043.3825438223294\n",
            "Testing Loss: 1052.5995501130883\n"
          ],
          "name": "stdout"
        }
      ]
    },
    {
      "cell_type": "markdown",
      "metadata": {
        "id": "i5sRIf0ejGKc"
      },
      "source": [
        "### Verifying Results"
      ]
    },
    {
      "cell_type": "markdown",
      "metadata": {
        "id": "XlshXIRUkroc"
      },
      "source": [
        "Use sklearn's pre-built OLS model on our dataset and verify that your implementation matches its result\r\n",
        "\r\n",
        "Do this by printing $w_{ols}$ from your implementation and sklearn's implementation"
      ]
    },
    {
      "cell_type": "code",
      "metadata": {
        "id": "81ZnXuW2jLZM",
        "colab": {
          "base_uri": "https://localhost:8080/"
        },
        "outputId": "c7dbcf16-93d0-4474-a5df-ab83f2552b21"
      },
      "source": [
        "from sklearn.linear_model import LinearRegression, Lasso, Ridge\r\n",
        "\r\n",
        "# Previous result\r\n",
        "W_ols = OLS(xtrain, ytrain)\r\n",
        "print(\"W_ols:\", W_ols)\r\n",
        "\r\n",
        "# Sklearn result\r\n",
        "W_ols_sklearn = LinearRegression()\r\n",
        "\r\n",
        "# Fit Sklearn Model\r\n",
        "# -- Code Required --\r\n",
        "W_ols_sklearn.fit(xtrain,ytrain)\r\n",
        "\r\n",
        "print(\"W_ols_sklearn\", W_ols_sklearn.coef_[:-1], W_ols_sklearn.intercept_)"
      ],
      "execution_count": 14,
      "outputs": [
        {
          "output_type": "stream",
          "text": [
            "W_ols: [ 1.01054998e+02 -8.83448668e-02]\n",
            "W_ols_sklearn [101.05499781] -0.08834486680807707\n"
          ],
          "name": "stdout"
        }
      ]
    },
    {
      "cell_type": "markdown",
      "metadata": {
        "id": "nNRsvB1ok8oD"
      },
      "source": [
        "Use scklearn's pre-built Ridge model on our dataset and verify that your implementation matches its result.\r\n",
        "\r\n",
        "Use the same $\\lambda = 0.1$ from the previous section\r\n",
        "\r\n",
        "Do this by printing $w_{ridge}$ from your implementation and sklearn's implementation"
      ]
    },
    {
      "cell_type": "code",
      "metadata": {
        "id": "jl0_yDasjnZw",
        "colab": {
          "base_uri": "https://localhost:8080/"
        },
        "outputId": "a22a4835-c4d5-493b-d4a5-7d74713bb670"
      },
      "source": [
        "from sklearn.linear_model import Ridge\r\n",
        "\r\n",
        "# Previous result\r\n",
        "W_ridge = ridge(xtrain, ytrain, lmda)\r\n",
        "print(\"W_ridge:\", W_ridge)\r\n",
        "\r\n",
        "# Sklearn result\r\n",
        "W_ridge_sklearn = Ridge(alpha=0.1)\r\n",
        "\r\n",
        "# Fit Sklearn Model\r\n",
        "# -- Code Required --\r\n",
        "W_ridge_sklearn.fit(xtrain,ytrain)\r\n",
        "\r\n",
        "print(\"W_ridge_sklearn\", W_ridge_sklearn.coef_[:-1], W_ridge_sklearn.intercept_)"
      ],
      "execution_count": 15,
      "outputs": [
        {
          "output_type": "stream",
          "text": [
            "W_ridge: [ 1.00606862e+02 -2.34634212e-02]\n",
            "W_ridge_sklearn [100.60687668] -0.02354380831199343\n"
          ],
          "name": "stdout"
        }
      ]
    },
    {
      "cell_type": "markdown",
      "metadata": {
        "id": "6hEmdrNqb7x7"
      },
      "source": [
        "## **Question 4:** Hyperparameter Tuning"
      ]
    },
    {
      "cell_type": "markdown",
      "metadata": {
        "id": "l_G2AH4mcJpO"
      },
      "source": [
        "Throughout this question, we will be interested in tuning the hyper parameter $\\lambda$ in ridge regression. And showing ridge's impact vs regular OLS.\r\n",
        "\r\n",
        "To do this, we will need a more complex dataset. One which has many redundant, non-informative dimensions. So we will be defining a new synthetic dataset using the code below.\r\n",
        "\r\n",
        "Our dataset will have 50 samples, and 1000 features."
      ]
    },
    {
      "cell_type": "code",
      "metadata": {
        "id": "9roTCuaffTC4",
        "colab": {
          "base_uri": "https://localhost:8080/"
        },
        "outputId": "1ea36ac0-eafe-4316-fcc3-af8cb53e3ae0"
      },
      "source": [
        "import numpy as np\r\n",
        "from sklearn.datasets import make_regression\r\n",
        "\r\n",
        "X, y, coefficients = make_regression(\r\n",
        "    n_samples=50,\r\n",
        "    n_features=1000,\r\n",
        "    n_informative=2,\r\n",
        "    n_targets=1,\r\n",
        "    noise=5,\r\n",
        "    coef=True,\r\n",
        "    random_state=10\r\n",
        ")\r\n",
        "y = abs(y)\r\n",
        "print(\"X shape:\", X.shape, sep='\\t')\r\n",
        "print(\"y shape:\", y.shape, sep='\\t')"
      ],
      "execution_count": 16,
      "outputs": [
        {
          "output_type": "stream",
          "text": [
            "X shape:\t(50, 1000)\n",
            "y shape:\t(50,)\n"
          ],
          "name": "stdout"
        }
      ]
    },
    {
      "cell_type": "markdown",
      "metadata": {
        "id": "nB8jOiTSeRPs"
      },
      "source": [
        "Attach a vector of ones onto **X** to account for the bias value"
      ]
    },
    {
      "cell_type": "code",
      "metadata": {
        "id": "k0qc5igrdn4i",
        "colab": {
          "base_uri": "https://localhost:8080/"
        },
        "outputId": "9846aa6d-2e74-4dee-aee8-cc382cdb0fab"
      },
      "source": [
        "ones = np.ones(shape = (len(X),1))\r\n",
        "print(ones.shape)\r\n",
        "X = np.hstack((X,ones))\r\n",
        "\r\n",
        "print(\"X shape:\", X.shape, sep='\\t')\r\n",
        "print(\"y shape:\", y.shape, sep='\\t')"
      ],
      "execution_count": 17,
      "outputs": [
        {
          "output_type": "stream",
          "text": [
            "(50, 1)\n",
            "X shape:\t(50, 1001)\n",
            "y shape:\t(50,)\n"
          ],
          "name": "stdout"
        }
      ]
    },
    {
      "cell_type": "markdown",
      "metadata": {
        "id": "kMEqFbP2eZZ2"
      },
      "source": [
        "Using **train_test_split** from sklearn, seperate the data using a 60, 20, 20 split.\r\n",
        "\r\n",
        "* Make sure to suffle the dataset using a **random_state** of 42\r\n",
        "\r\n",
        "**Hint:** \r\n",
        "\r\n",
        "* This can be done easily with 2 calls to **train_test_split**. \r\n",
        "\r\n",
        "* The first call will split the data into train/test, and the second will split the train data into train/val\r\n"
      ]
    },
    {
      "cell_type": "code",
      "metadata": {
        "id": "x1kbvkRZn-d9",
        "colab": {
          "base_uri": "https://localhost:8080/"
        },
        "outputId": "2963ef8f-77b5-4c2e-94e3-e597e2cc2277"
      },
      "source": [
        "from sklearn.model_selection import train_test_split\r\n",
        "\r\n",
        "xtrain, xtest, ytrain, ytest = train_test_split(X, y, test_size = 0.2, random_state = 42)\r\n",
        "xtrain, xval, ytrain, yval = train_test_split(xtrain, ytrain, test_size = 0.25, random_state = 42)\r\n",
        "\r\n",
        "print(\"xtrain shape:\", xtrain.shape, sep='\\t')\r\n",
        "print(\"xval shape:\", xval.shape, sep='\\t')\r\n",
        "print(\"xtest shape:\", xtest.shape, '\\n', sep='\\t')\r\n",
        "\r\n",
        "print(\"ytrain shape:\", ytrain.shape, sep='\\t')\r\n",
        "print(\"yval shape:\", yval.shape, sep='\\t')\r\n",
        "print(\"ytest shape:\", ytest.shape, sep='\\t')"
      ],
      "execution_count": 18,
      "outputs": [
        {
          "output_type": "stream",
          "text": [
            "xtrain shape:\t(30, 1001)\n",
            "xval shape:\t(10, 1001)\n",
            "xtest shape:\t(10, 1001)\t\n",
            "\n",
            "ytrain shape:\t(30,)\n",
            "yval shape:\t(10,)\n",
            "ytest shape:\t(10,)\n"
          ],
          "name": "stdout"
        }
      ]
    },
    {
      "cell_type": "markdown",
      "metadata": {
        "id": "5Gc1HKmCfU5b"
      },
      "source": [
        "### OLS"
      ]
    },
    {
      "cell_type": "markdown",
      "metadata": {
        "id": "EkmPvDCxejAr"
      },
      "source": [
        "Using your implementation from the previous question,\r\n",
        "get the OLS solution on this dataset."
      ]
    },
    {
      "cell_type": "code",
      "metadata": {
        "id": "yTTXNGCJetfW",
        "colab": {
          "base_uri": "https://localhost:8080/"
        },
        "outputId": "ac259ee3-7e2d-4543-9511-5f970b8ae8bd"
      },
      "source": [
        "W_ols = OLS(xtrain,ytrain)\r\n",
        "print(\"W_ols:\", W_ols[:10])    # For the sake of cleanliness we will only print first 10 coefficients"
      ],
      "execution_count": 19,
      "outputs": [
        {
          "output_type": "stream",
          "text": [
            "W_ols: [ -13.26861093  298.01003142 -127.44260886  106.46641054  303.01110206\n",
            " -131.63697552   80.12829674 -289.14061156 -444.02100392  -72.2118103 ]\n"
          ],
          "name": "stdout"
        }
      ]
    },
    {
      "cell_type": "markdown",
      "metadata": {
        "id": "ATeeqIUmeyaF"
      },
      "source": [
        "Using your loss function from the previous question, obtain the train, val, and test losses of OLS.\r\n",
        "\r\n",
        "Is this solution over fitting the data? Explain."
      ]
    },
    {
      "cell_type": "code",
      "metadata": {
        "id": "Y7_ljfseeu2Z",
        "colab": {
          "base_uri": "https://localhost:8080/"
        },
        "outputId": "cf5fbd06-cd2b-48c3-f0e4-691820a1cbc9"
      },
      "source": [
        "loss_train = get_loss(xtrain, ytrain, W_ols)\r\n",
        "loss_val = get_loss(xval, yval, W_ols)\r\n",
        "loss_test = get_loss(xtest, ytest, W_ols)\r\n",
        "\r\n",
        "print(\"Training Loss:\", loss_train)\r\n",
        "print(\"Validation Loss:\", loss_val)\r\n",
        "print(\"Testing Loss:\", loss_test)"
      ],
      "execution_count": 20,
      "outputs": [
        {
          "output_type": "stream",
          "text": [
            "Training Loss: 9.283699787792093e-24\n",
            "Validation Loss: 14675023.61521715\n",
            "Testing Loss: 16883461.08343602\n"
          ],
          "name": "stdout"
        }
      ]
    },
    {
      "cell_type": "markdown",
      "metadata": {
        "id": "8DgKGD-yfD5l"
      },
      "source": [
        "**Answer**\r\n",
        "Yes, the solution is overfitting the data because the training loss is much smaller than the validation loss and the testing loss. So the solution is well fitted to the training data, but it does not generalize well to the other data. "
      ]
    },
    {
      "cell_type": "markdown",
      "metadata": {
        "id": "jGljVyVpfXFs"
      },
      "source": [
        "### Ridge"
      ]
    },
    {
      "cell_type": "markdown",
      "metadata": {
        "id": "ZOCRHgVxdws6"
      },
      "source": [
        "Using your implementation from the previous question, and your validations data, tune the $\\lambda$ parameter of ridge regression. \r\n",
        "\r\n",
        "Do this by creating a loop that varies $\\lambda$ from 10e-20 to 10e-1 in factors of 10.\r\n",
        "\r\n",
        "On each iteration \r\n",
        "* calculate W_ridge using your previous implementation\r\n",
        "* calculate training and validation loss\r\n",
        "* store the training loss, validation loss, and $\\lambda$ value. These will be needed for the coming plots."
      ]
    },
    {
      "cell_type": "code",
      "metadata": {
        "id": "QUnyO-M6gADb"
      },
      "source": [
        "train_loss_arr = []\r\n",
        "val_loss_arr = []\r\n",
        "lmdas = []\r\n",
        "\r\n",
        "# -- Code Required --\r\n",
        "\r\n",
        "current_lmda = 10E-20\r\n",
        "\r\n",
        "while current_lmda <= 10E0:\r\n",
        "    W_ridge = ridge(xtrain, ytrain, current_lmda)\r\n",
        "    loss_train = get_ridge_loss(xtrain,ytrain,W_ridge,current_lmda)\r\n",
        "    loss_val = get_ridge_loss(xval,yval,W_ridge,current_lmda)\r\n",
        "    train_loss_arr.append(loss_train)\r\n",
        "    val_loss_arr.append(loss_val)\r\n",
        "    lmdas.append(current_lmda)\r\n",
        "    current_lmda = current_lmda * 10\r\n"
      ],
      "execution_count": 21,
      "outputs": []
    },
    {
      "cell_type": "markdown",
      "metadata": {
        "id": "Kkv3n1yaebyS"
      },
      "source": [
        "Create a plot of the losses as a function of lamda"
      ]
    },
    {
      "cell_type": "code",
      "metadata": {
        "colab": {
          "base_uri": "https://localhost:8080/",
          "height": 457
        },
        "id": "jYK_NqPIgYjX",
        "outputId": "0fff577e-01f9-4b3f-d1c6-f906dfb8b869"
      },
      "source": [
        "from matplotlib import pyplot as plt\r\n",
        "\r\n",
        "# -- Code Required --\r\n",
        "plt.figure(figsize=(15, 7))\r\n",
        "plt.plot(lmdas, train_loss_arr, color = 'red', label= 'train')\r\n",
        "plt.plot(lmdas, val_loss_arr, color = 'blue', label = 'val')\r\n",
        "plt.xscale('log')\r\n",
        "plt.legend(loc=\"upper right\")\r\n",
        "plt.xlabel(\"Lambda\")\r\n",
        "plt.ylabel(\"Loss\")\r\n",
        "plt.show()\r\n",
        "\r\n"
      ],
      "execution_count": 22,
      "outputs": [
        {
          "output_type": "display_data",
          "data": {
            "image/png": "[encoded data removed]",
            "text/plain": [
              "<Figure size 1080x504 with 1 Axes>"
            ]
          },
          "metadata": {
            "tags": [],
            "needs_background": "light"
          }
        }
      ]
    },
    {
      "cell_type": "markdown",
      "metadata": {
        "id": "zZOu07Wpgxl2"
      },
      "source": [
        "Identify the best lambda $\\lambda^*$, and train your final classifier $W^*_{ridge}$ on both the training and the validation data together."
      ]
    },
    {
      "cell_type": "code",
      "metadata": {
        "colab": {
          "base_uri": "https://localhost:8080/"
        },
        "id": "ZNC6XEfhYTmq",
        "outputId": "308ec279-5b32-4363-be75-ba2d998c93de"
      },
      "source": [
        "# Identifying lambda_star\r\n",
        "lmda_star = lmdas[val_loss_arr.index(min(val_loss_arr))]\r\n",
        "\r\n",
        "# Creating final xtrain and ytrain\r\n",
        "xtrain_final = np.vstack((xtrain,xval))\r\n",
        "ytrain_final = np.concatenate([ytrain,yval])\r\n",
        "\r\n",
        "# Calculating W_ridge_star\r\n",
        "W_ridge_star = ridge(xtrain_final, ytrain_final, lmda_star)\r\n",
        "\r\n",
        "print(\"lmda_star:\", lmda_star)\r\n",
        "print(\"W_ridge_star:\", W_ridge_star[:10]) # For the sake of cleanliness we will only print first 10 coefficients"
      ],
      "execution_count": 23,
      "outputs": [
        {
          "output_type": "stream",
          "text": [
            "lmda_star: 1.0000000000000003e-09\n",
            "W_ridge_star: [ 0.3665771  -0.56241768  1.71956546 -0.51824779  0.60807615 -0.43755518\n",
            " -0.82181921  0.03306205  0.88506299 -0.95328715]\n"
          ],
          "name": "stdout"
        }
      ]
    },
    {
      "cell_type": "markdown",
      "metadata": {
        "id": "x4NkOKPphlZV"
      },
      "source": [
        "Using your loss function *get_ridge_loss* from the previous question, obtain the train, val, and test losses of $W_{ridge}^*$. Then answer the following questions:\r\n",
        "* Are we overfitting the dataset? Explain.\r\n",
        "* How are we performing compared to OLS"
      ]
    },
    {
      "cell_type": "code",
      "metadata": {
        "colab": {
          "base_uri": "https://localhost:8080/"
        },
        "id": "lAcKos3phh89",
        "outputId": "03aa974f-f25b-4ee9-db2c-d74396b8f567"
      },
      "source": [
        "loss_train = get_ridge_loss(xtrain, ytrain, W_ridge_star, lmda_star)\r\n",
        "loss_val = get_ridge_loss(xval, yval, W_ridge_star, lmda_star)\r\n",
        "loss_test = get_ridge_loss(xtest, ytest, W_ridge_star, lmda_star)\r\n",
        "\r\n",
        "print(\"Training Loss:\", loss_train)\r\n",
        "print(\"Validation Loss:\", loss_val)\r\n",
        "print(\"Testing Loss:\", loss_test)"
      ],
      "execution_count": 24,
      "outputs": [
        {
          "output_type": "stream",
          "text": [
            "Training Loss: 4.175842571022058e-07\n",
            "Validation Loss: 4.1758425710221813e-07\n",
            "Testing Loss: 8237.190780112856\n"
          ],
          "name": "stdout"
        }
      ]
    },
    {
      "cell_type": "markdown",
      "metadata": {
        "id": "RD3KrymEiNr1"
      },
      "source": [
        "**Answer**\r\n",
        " We are still overfitting the data set since the testing loss is much larger than the training loss. However, the training loss and the validation loss are the same, and we are overfitting much less than when we used OLS. With OLS the difference between training loss and validation/testing loss was much larger. With OLS, the training loss was even smaller, and the validation/testing loss were both much larger. Therefore, our solution here is much better, although still overfitting."
      ]
    }
  ]
}